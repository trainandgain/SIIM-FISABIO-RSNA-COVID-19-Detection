{
 "cells": [
  {
   "cell_type": "code",
   "execution_count": 1,
   "id": "inside-increase",
   "metadata": {},
   "outputs": [],
   "source": [
    "# imports\n",
    "import torch\n",
    "from torch import nn\n",
    "from torchvision.models import resnet18\n",
    "from torch.utils.data import Dataset\n",
    "from torchvision import datasets\n",
    "from torch.utils.data import DataLoader\n",
    "import torch.nn.functional as F\n",
    "import platform\n",
    "from torch.autograd import Variable\n",
    "import time\n",
    "import torchvision\n",
    "from torchvision.models.detection.faster_rcnn import FastRCNNPredictor\n",
    "from torchvision.models.detection import  FasterRCNN\n",
    "from torchvision.models.detection.rpn import AnchorGenerator\n",
    "import glob\n",
    "import os\n",
    "from sklearn import metrics\n",
    "from sklearn.model_selection import StratifiedKFold\n",
    "from sklearn.preprocessing import normalize\n",
    "# Albumenatations\n",
    "import albumentations as A\n",
    "from albumentations.pytorch.transforms import ToTensorV2\n",
    "\n",
    "# vis\n",
    "import matplotlib\n",
    "import matplotlib.pyplot as plt\n",
    "import numpy as np\n",
    "import pandas as pd\n",
    "from tqdm import tqdm\n",
    "import sklearn.metrics\n",
    "from math import ceil\n",
    "import cv2\n",
    "import pydicom\n",
    "from pydicom.pixel_data_handlers.util import apply_voi_lut\n",
    "import PIL"
   ]
  },
  {
   "cell_type": "code",
   "execution_count": 2,
   "id": "dried-magnitude",
   "metadata": {},
   "outputs": [],
   "source": [
    "# import dataset\n",
    "train = pd.read_csv('../input/train_exploded_filled.csv')"
   ]
  },
  {
   "cell_type": "code",
   "execution_count": 3,
   "id": "polished-police",
   "metadata": {},
   "outputs": [],
   "source": [
    "class Config:\n",
    "    train_pcent = 0.8\n",
    "    TRAIN_BS = 2\n",
    "    VALID_BS = 2\n",
    "    NB_EPOCHS = 7\n",
    "    model_name = 'FasterRCNNDetector'\n",
    "    reshape_size = (800, 800)\n",
    "    num_classes = 4\n",
    "    seed = 2021\n",
    "    iou_threshold = [0.5]"
   ]
  },
  {
   "cell_type": "code",
   "execution_count": 4,
   "id": "satisfactory-shade",
   "metadata": {},
   "outputs": [],
   "source": [
    "mapping = {0: 'Negative for Pneumonia',\n",
    "1: 'Typical Appearance',\n",
    "2: 'Indeterminate Appearance',\n",
    "3: 'Atypical Appearance'}"
   ]
  },
  {
   "cell_type": "code",
   "execution_count": 5,
   "id": "connected-capital",
   "metadata": {},
   "outputs": [],
   "source": [
    "class SIIM(Dataset):\n",
    "    def __init__(self, image_ids, df, transforms=None):\n",
    "        super().__init__()\n",
    "        # image_ids\n",
    "        self.image_ids = image_ids\n",
    "        # random sample data\n",
    "        self.df = df\n",
    "        # augmentations\n",
    "        self.transforms = transforms\n",
    "    \n",
    "    def __len__(self) -> int:\n",
    "        return(len(self.image_ids))\n",
    "    \n",
    "    @staticmethod\n",
    "    def dicom2array(path: str, voi_lut=True, fix_monochrome=True):\n",
    "        dicom = pydicom.read_file(path)\n",
    "        # VOI LUT (if available by DICOM device) is used to\n",
    "        # transform raw DICOM data to \"human-friendly\" view\n",
    "        if voi_lut:\n",
    "            data = apply_voi_lut(dicom.pixel_array, dicom)\n",
    "        else:\n",
    "            data = dicom.pixel_array\n",
    "        # depending on this value, X-ray may look inverted - fix that:\n",
    "        if fix_monochrome and dicom.PhotometricInterpretation == \"MONOCHROME1\":\n",
    "            data = np.amax(data) - data\n",
    "        data = data - np.min(data)\n",
    "        data = data / np.max(data)\n",
    "        return data.astype(np.float32)\n",
    "    \n",
    "    def load_bbox_labels(self, image_id, shape):\n",
    "        row, col = shape\n",
    "        records = self.df[self.df['id'] == image_id]\n",
    "        boxes = []\n",
    "        for bbox in records[['x', 'y', 'width', 'height']].values:\n",
    "            # get xmin, ymin, xmax, ymax\n",
    "            to_append = np.clip([bbox[0]/col, bbox[1]/row, (bbox[0]+bbox[2])/col, (bbox[1]+bbox[3])/row], 0, 1.0)\n",
    "            temp = A.convert_bbox_from_albumentations(to_append, 'pascal_voc', rows=row, cols=col) \n",
    "            boxes.append(temp)\n",
    "            #boxes.append(bbox)\n",
    "        labels = records['integer_label'].values\n",
    "        return(boxes, labels)\n",
    "    \n",
    "    def __getitem__(self, idx: int):\n",
    "        # retrieve idx data\n",
    "        image_id = self.image_ids[idx]\n",
    "        # get path\n",
    "        image_path = self.df['file_path'].values[idx]\n",
    "        # get image\n",
    "        image = self.dicom2array(image_path)\n",
    "        # get boxes and labels\n",
    "        boxes, labels = self.load_bbox_labels(image_id, image.shape)\n",
    "        # target\n",
    "        target = {\n",
    "            'bboxes': boxes,\n",
    "            'labels': torch.tensor(labels)\n",
    "        }\n",
    "        # Augments\n",
    "        if self.transforms:\n",
    "            t = self.transforms(**{'image': image,\n",
    "                    'bboxes': target['bboxes'],\n",
    "                    'labels': target['labels']})\n",
    "            image = t['image']\n",
    "            t_bboxes = torch.stack(tuple(map(torch.tensor, \n",
    "                                             zip(*t['bboxes'])))).permute(1, 0)\n",
    "            target = {'boxes': t_bboxes,\n",
    "                      'labels': torch.tensor(labels)}\n",
    "\n",
    "        return image, target, torch.tensor(idx)"
   ]
  },
  {
   "cell_type": "code",
   "execution_count": 6,
   "id": "global-helicopter",
   "metadata": {},
   "outputs": [],
   "source": [
    "# unique id_s to enter into dataset\n",
    "id_s = np.unique(train.id.values)"
   ]
  },
  {
   "cell_type": "code",
   "execution_count": 7,
   "id": "forty-consensus",
   "metadata": {},
   "outputs": [],
   "source": [
    "# declare database\n",
    "dataset = SIIM(image_ids=train.id.values, \n",
    "               df=train, transforms=None)"
   ]
  },
  {
   "cell_type": "code",
   "execution_count": 8,
   "id": "median-majority",
   "metadata": {},
   "outputs": [],
   "source": [
    "image, box, idx = dataset[0]"
   ]
  },
  {
   "cell_type": "code",
   "execution_count": 9,
   "id": "metropolitan-flashing",
   "metadata": {},
   "outputs": [
    {
     "data": {
      "text/plain": [
       "(3488, 4256)"
      ]
     },
     "execution_count": 9,
     "metadata": {},
     "output_type": "execute_result"
    }
   ],
   "source": [
    "image.shape"
   ]
  },
  {
   "cell_type": "code",
   "execution_count": 10,
   "id": "sticky-transcription",
   "metadata": {},
   "outputs": [],
   "source": [
    "def grab_pixel_aggs(dataset, sample_size):\n",
    "    'Return dataframe of image channel means and standard deviations'\n",
    "    aggs_df = pd.DataFrame()\n",
    "    \n",
    "    for i, (image, boxes, idx) in enumerate(dataset):\n",
    "        image = image\n",
    "        aggs = {}\n",
    "        if i ==sample_size:\n",
    "            break\n",
    "        aggs['_min'] = image.min()\n",
    "        aggs['_max'] = image.max()\n",
    "        aggs['_mean'] = image.mean()\n",
    "        aggs['_std'] = image.std()\n",
    "        aggs_df = aggs_df.append(aggs, ignore_index=True)\n",
    "    return aggs_df"
   ]
  },
  {
   "cell_type": "code",
   "execution_count": 11,
   "id": "collect-gateway",
   "metadata": {
    "scrolled": true
   },
   "outputs": [
    {
     "data": {
      "text/html": [
       "<div>\n",
       "<style scoped>\n",
       "    .dataframe tbody tr th:only-of-type {\n",
       "        vertical-align: middle;\n",
       "    }\n",
       "\n",
       "    .dataframe tbody tr th {\n",
       "        vertical-align: top;\n",
       "    }\n",
       "\n",
       "    .dataframe thead th {\n",
       "        text-align: right;\n",
       "    }\n",
       "</style>\n",
       "<table border=\"1\" class=\"dataframe\">\n",
       "  <thead>\n",
       "    <tr style=\"text-align: right;\">\n",
       "      <th></th>\n",
       "      <th>_max</th>\n",
       "      <th>_mean</th>\n",
       "      <th>_min</th>\n",
       "      <th>_std</th>\n",
       "    </tr>\n",
       "  </thead>\n",
       "  <tbody>\n",
       "    <tr>\n",
       "      <th>0</th>\n",
       "      <td>1.0</td>\n",
       "      <td>0.506424</td>\n",
       "      <td>0.0</td>\n",
       "      <td>0.266328</td>\n",
       "    </tr>\n",
       "    <tr>\n",
       "      <th>1</th>\n",
       "      <td>1.0</td>\n",
       "      <td>0.506424</td>\n",
       "      <td>0.0</td>\n",
       "      <td>0.266328</td>\n",
       "    </tr>\n",
       "    <tr>\n",
       "      <th>2</th>\n",
       "      <td>1.0</td>\n",
       "      <td>0.421313</td>\n",
       "      <td>0.0</td>\n",
       "      <td>0.201234</td>\n",
       "    </tr>\n",
       "    <tr>\n",
       "      <th>3</th>\n",
       "      <td>1.0</td>\n",
       "      <td>0.421313</td>\n",
       "      <td>0.0</td>\n",
       "      <td>0.201234</td>\n",
       "    </tr>\n",
       "    <tr>\n",
       "      <th>4</th>\n",
       "      <td>1.0</td>\n",
       "      <td>0.474880</td>\n",
       "      <td>0.0</td>\n",
       "      <td>0.335027</td>\n",
       "    </tr>\n",
       "  </tbody>\n",
       "</table>\n",
       "</div>"
      ],
      "text/plain": [
       "   _max     _mean  _min      _std\n",
       "0   1.0  0.506424   0.0  0.266328\n",
       "1   1.0  0.506424   0.0  0.266328\n",
       "2   1.0  0.421313   0.0  0.201234\n",
       "3   1.0  0.421313   0.0  0.201234\n",
       "4   1.0  0.474880   0.0  0.335027"
      ]
     },
     "execution_count": 11,
     "metadata": {},
     "output_type": "execute_result"
    }
   ],
   "source": [
    "aggs_df = grab_pixel_aggs(dataset, sample_size=1000)\n",
    "aggs_df.head()"
   ]
  },
  {
   "cell_type": "markdown",
   "id": "specific-pension",
   "metadata": {},
   "source": [
    "# Magic Numbers"
   ]
  },
  {
   "cell_type": "code",
   "execution_count": 12,
   "id": "crucial-university",
   "metadata": {
    "scrolled": true
   },
   "outputs": [
    {
     "name": "stdout",
     "output_type": "stream",
     "text": [
      "Mean:   0.5324997557252645\n",
      "std dev:   0.20775934785604477\n",
      "Global max:   1\n"
     ]
    }
   ],
   "source": [
    "print(f'Mean:   {aggs_df._mean.mean()}')\n",
    "print(f'std dev:   {aggs_df._std.mean()}')\n",
    "print('Global max:   1')"
   ]
  },
  {
   "cell_type": "markdown",
   "id": "dietary-latitude",
   "metadata": {},
   "source": [
    "# Normalised\n",
    "\n",
    "$[0, 255]\\to[0,1]$"
   ]
  },
  {
   "cell_type": "code",
   "execution_count": 107,
   "id": "formed-database",
   "metadata": {},
   "outputs": [],
   "source": [
    "image, box, idx = dataset[0]"
   ]
  },
  {
   "cell_type": "code",
   "execution_count": 117,
   "id": "discrete-equity",
   "metadata": {},
   "outputs": [
    {
     "data": {
      "image/png": "[encoded data removed]",
      "text/plain": [
       "<Figure size 432x288 with 1 Axes>"
      ]
     },
     "metadata": {
      "needs_background": "light"
     },
     "output_type": "display_data"
    }
   ],
   "source": [
    "plt.hist(image.ravel(), bins=100)\n",
    "plt.show()"
   ]
  },
  {
   "cell_type": "code",
   "execution_count": 109,
   "id": "enabling-persian",
   "metadata": {},
   "outputs": [],
   "source": [
    "norm = (image/255)"
   ]
  },
  {
   "cell_type": "code",
   "execution_count": 116,
   "id": "disabled-october",
   "metadata": {},
   "outputs": [
    {
     "data": {
      "image/png": "[encoded data removed]",
      "text/plain": [
       "<Figure size 432x288 with 1 Axes>"
      ]
     },
     "metadata": {
      "needs_background": "light"
     },
     "output_type": "display_data"
    }
   ],
   "source": [
    "plt.hist(norm.ravel(), bins=100)\n",
    "plt.show()"
   ]
  },
  {
   "cell_type": "code",
   "execution_count": 111,
   "id": "serious-reggae",
   "metadata": {},
   "outputs": [],
   "source": [
    "mean = np.mean(norm, keepdims=True)\n",
    "std = np.sqrt(((norm - mean)**2).mean(keepdims=True))"
   ]
  },
  {
   "cell_type": "code",
   "execution_count": 113,
   "id": "hidden-clearance",
   "metadata": {},
   "outputs": [],
   "source": [
    "stand = (norm-mean) / std"
   ]
  },
  {
   "cell_type": "code",
   "execution_count": 115,
   "id": "perceived-earth",
   "metadata": {
    "scrolled": true
   },
   "outputs": [
    {
     "data": {
      "image/png": "[encoded data removed]",
      "text/plain": [
       "<Figure size 432x288 with 1 Axes>"
      ]
     },
     "metadata": {
      "needs_background": "light"
     },
     "output_type": "display_data"
    }
   ],
   "source": [
    "plt.hist(stand.ravel(), bins=100)\n",
    "plt.show()"
   ]
  },
  {
   "cell_type": "markdown",
   "id": "packed-victim",
   "metadata": {},
   "source": [
    "Need to work out how to normalise properly...\n",
    "[Normalising stats](https://www.calculushowto.com/derivatives/sum-rule/)"
   ]
  }
 ],
 "metadata": {
  "kernelspec": {
   "display_name": "Python [conda env:cell]",
   "language": "python",
   "name": "conda-env-cell-py"
  },
  "language_info": {
   "codemirror_mode": {
    "name": "ipython",
    "version": 3
   },
   "file_extension": ".py",
   "mimetype": "text/x-python",
   "name": "python",
   "nbconvert_exporter": "python",
   "pygments_lexer": "ipython3",
   "version": "3.9.2"
  }
 },
 "nbformat": 4,
 "nbformat_minor": 5
}
