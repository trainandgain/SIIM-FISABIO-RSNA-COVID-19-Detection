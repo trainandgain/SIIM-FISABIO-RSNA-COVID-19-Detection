{
 "cells": [
  {
   "cell_type": "markdown",
   "id": "5b1d050c",
   "metadata": {},
   "source": [
    "# Exploration"
   ]
  },
  {
   "cell_type": "code",
   "execution_count": 26,
   "id": "ab7e2cab",
   "metadata": {},
   "outputs": [],
   "source": [
    "# imports\n",
    "import pandas as pd\n",
    "import matplotlib.pyplot as plt\n",
    "import seaborn as sns\n",
    "import numpy as np\n",
    "import pydicom\n",
    "from PIL import Image"
   ]
  },
  {
   "cell_type": "markdown",
   "id": "bf565705",
   "metadata": {},
   "source": [
    "## Train Study Level\n",
    "\n",
    "...the train study-level metadata, with one row for each study, including correct labels.\n",
    "\n",
    "The csv file is arranged as follows:\n",
    "\n",
    "<code>id - unique study identifier\n",
    "Negative for Pneumonia - 1 if the study is negative for pneumonia, 0 otherwise\n",
    "Typical Appearance - 1 if the study has this appearance, 0 otherwise\n",
    "Indeterminate Appearance  - 1 if the study has this appearance, 0 otherwise\n",
    "Atypical Appearance  - 1 if the study has this appearance, 0 otherwise</code>"
   ]
  },
  {
   "cell_type": "code",
   "execution_count": 7,
   "id": "c1835c9e",
   "metadata": {},
   "outputs": [],
   "source": [
    "# import csv\n",
    "train_study = pd.read_csv('../input/train_study_level.csv')"
   ]
  },
  {
   "cell_type": "code",
   "execution_count": 12,
   "id": "c55d4129",
   "metadata": {},
   "outputs": [
    {
     "name": "stdout",
     "output_type": "stream",
     "text": [
      "<class 'pandas.core.frame.DataFrame'>\n",
      "RangeIndex: 6054 entries, 0 to 6053\n",
      "Data columns (total 5 columns):\n",
      " #   Column                    Non-Null Count  Dtype \n",
      "---  ------                    --------------  ----- \n",
      " 0   id                        6054 non-null   object\n",
      " 1   Negative for Pneumonia    6054 non-null   int64 \n",
      " 2   Typical Appearance        6054 non-null   int64 \n",
      " 3   Indeterminate Appearance  6054 non-null   int64 \n",
      " 4   Atypical Appearance       6054 non-null   int64 \n",
      "dtypes: int64(4), object(1)\n",
      "memory usage: 236.6+ KB\n"
     ]
    }
   ],
   "source": [
    "# csv info\n",
    "train_study.info()"
   ]
  },
  {
   "cell_type": "code",
   "execution_count": 13,
   "id": "1eeed5c0",
   "metadata": {},
   "outputs": [
    {
     "data": {
      "text/html": [
       "<div>\n",
       "<style scoped>\n",
       "    .dataframe tbody tr th:only-of-type {\n",
       "        vertical-align: middle;\n",
       "    }\n",
       "\n",
       "    .dataframe tbody tr th {\n",
       "        vertical-align: top;\n",
       "    }\n",
       "\n",
       "    .dataframe thead th {\n",
       "        text-align: right;\n",
       "    }\n",
       "</style>\n",
       "<table border=\"1\" class=\"dataframe\">\n",
       "  <thead>\n",
       "    <tr style=\"text-align: right;\">\n",
       "      <th></th>\n",
       "      <th>id</th>\n",
       "      <th>Negative for Pneumonia</th>\n",
       "      <th>Typical Appearance</th>\n",
       "      <th>Indeterminate Appearance</th>\n",
       "      <th>Atypical Appearance</th>\n",
       "    </tr>\n",
       "  </thead>\n",
       "  <tbody>\n",
       "    <tr>\n",
       "      <th>0</th>\n",
       "      <td>00086460a852_study</td>\n",
       "      <td>0</td>\n",
       "      <td>1</td>\n",
       "      <td>0</td>\n",
       "      <td>0</td>\n",
       "    </tr>\n",
       "    <tr>\n",
       "      <th>1</th>\n",
       "      <td>000c9c05fd14_study</td>\n",
       "      <td>0</td>\n",
       "      <td>0</td>\n",
       "      <td>0</td>\n",
       "      <td>1</td>\n",
       "    </tr>\n",
       "    <tr>\n",
       "      <th>2</th>\n",
       "      <td>00292f8c37bd_study</td>\n",
       "      <td>1</td>\n",
       "      <td>0</td>\n",
       "      <td>0</td>\n",
       "      <td>0</td>\n",
       "    </tr>\n",
       "    <tr>\n",
       "      <th>3</th>\n",
       "      <td>005057b3f880_study</td>\n",
       "      <td>1</td>\n",
       "      <td>0</td>\n",
       "      <td>0</td>\n",
       "      <td>0</td>\n",
       "    </tr>\n",
       "    <tr>\n",
       "      <th>4</th>\n",
       "      <td>0051d9b12e72_study</td>\n",
       "      <td>0</td>\n",
       "      <td>0</td>\n",
       "      <td>0</td>\n",
       "      <td>1</td>\n",
       "    </tr>\n",
       "    <tr>\n",
       "      <th>5</th>\n",
       "      <td>00792b5c8852_study</td>\n",
       "      <td>1</td>\n",
       "      <td>0</td>\n",
       "      <td>0</td>\n",
       "      <td>0</td>\n",
       "    </tr>\n",
       "    <tr>\n",
       "      <th>6</th>\n",
       "      <td>00908ffd2d08_study</td>\n",
       "      <td>1</td>\n",
       "      <td>0</td>\n",
       "      <td>0</td>\n",
       "      <td>0</td>\n",
       "    </tr>\n",
       "    <tr>\n",
       "      <th>7</th>\n",
       "      <td>009bc005edaa_study</td>\n",
       "      <td>0</td>\n",
       "      <td>0</td>\n",
       "      <td>1</td>\n",
       "      <td>0</td>\n",
       "    </tr>\n",
       "    <tr>\n",
       "      <th>8</th>\n",
       "      <td>00a76543ed93_study</td>\n",
       "      <td>0</td>\n",
       "      <td>0</td>\n",
       "      <td>1</td>\n",
       "      <td>0</td>\n",
       "    </tr>\n",
       "    <tr>\n",
       "      <th>9</th>\n",
       "      <td>00a87235ca36_study</td>\n",
       "      <td>0</td>\n",
       "      <td>1</td>\n",
       "      <td>0</td>\n",
       "      <td>0</td>\n",
       "    </tr>\n",
       "  </tbody>\n",
       "</table>\n",
       "</div>"
      ],
      "text/plain": [
       "                   id  Negative for Pneumonia  Typical Appearance  \\\n",
       "0  00086460a852_study                       0                   1   \n",
       "1  000c9c05fd14_study                       0                   0   \n",
       "2  00292f8c37bd_study                       1                   0   \n",
       "3  005057b3f880_study                       1                   0   \n",
       "4  0051d9b12e72_study                       0                   0   \n",
       "5  00792b5c8852_study                       1                   0   \n",
       "6  00908ffd2d08_study                       1                   0   \n",
       "7  009bc005edaa_study                       0                   0   \n",
       "8  00a76543ed93_study                       0                   0   \n",
       "9  00a87235ca36_study                       0                   1   \n",
       "\n",
       "   Indeterminate Appearance  Atypical Appearance  \n",
       "0                         0                    0  \n",
       "1                         0                    1  \n",
       "2                         0                    0  \n",
       "3                         0                    0  \n",
       "4                         0                    1  \n",
       "5                         0                    0  \n",
       "6                         0                    0  \n",
       "7                         1                    0  \n",
       "8                         1                    0  \n",
       "9                         0                    0  "
      ]
     },
     "execution_count": 13,
     "metadata": {},
     "output_type": "execute_result"
    }
   ],
   "source": [
    "# head of csv\n",
    "train_study.head(10)"
   ]
  },
  {
   "cell_type": "code",
   "execution_count": 16,
   "id": "3ef8c0c8",
   "metadata": {},
   "outputs": [],
   "source": [
    "# correlation\n",
    "corr = train_study.corr()"
   ]
  },
  {
   "cell_type": "code",
   "execution_count": 21,
   "id": "9f8f45a2",
   "metadata": {},
   "outputs": [
    {
     "data": {
      "image/png": "[encoded data removed]",
      "text/plain": [
       "<Figure size 792x648 with 2 Axes>"
      ]
     },
     "metadata": {
      "needs_background": "light"
     },
     "output_type": "display_data"
    }
   ],
   "source": [
    "# seaborn plot\n",
    "\n",
    "# generate mask\n",
    "mask = np.triu(np.ones_like(corr, dtype=bool))\n",
    "\n",
    "# set up matplotlib figure\n",
    "fig, ax = plt.subplots(figsize=(11, 9))\n",
    "\n",
    "# draw heatmap with mask\n",
    "sns.heatmap(corr, mask=mask, square=True).set(title='Correlation of DataFrame')\n",
    "\n",
    "# display plot\n",
    "plt.show()"
   ]
  },
  {
   "cell_type": "markdown",
   "id": "790f006a",
   "metadata": {},
   "source": [
    "## DCM Sample\n",
    "\n",
    "[Kaggle Thread about DCM](https://www.kaggle.com/mujinjo/siim-covid-19-how-to-convert-dcm-to-image)\n",
    "\n",
    "[How to use pydicom](https://pydicom.github.io/pydicom/stable/auto_examples/index.html)"
   ]
  },
  {
   "cell_type": "code",
   "execution_count": 23,
   "id": "e1209833",
   "metadata": {},
   "outputs": [],
   "source": [
    "# read files\n",
    "file_path = '../input/train_study_samples/00086460a852/9e8302230c91/65761e66de9f.dcm'\n",
    "DCM = pydicom.dcmread(file_path)"
   ]
  },
  {
   "cell_type": "code",
   "execution_count": 30,
   "id": "d172ecf6",
   "metadata": {},
   "outputs": [],
   "source": [
    "arr = DCM.pixel_array"
   ]
  },
  {
   "cell_type": "code",
   "execution_count": 42,
   "id": "c1518324",
   "metadata": {},
   "outputs": [
    {
     "data": {
      "image/png": "[encoded data removed]",
      "text/plain": [
       "<Figure size 432x288 with 1 Axes>"
      ]
     },
     "metadata": {
      "needs_background": "light"
     },
     "output_type": "display_data"
    }
   ],
   "source": [
    "plt.imshow(arr, cmap='gray')\n",
    "plt.title('Pixel Data from DCM')\n",
    "plt.show()"
   ]
  },
  {
   "cell_type": "markdown",
   "id": "969634e0",
   "metadata": {},
   "source": [
    "## Display Data"
   ]
  },
  {
   "cell_type": "code",
   "execution_count": 43,
   "id": "a1f13162",
   "metadata": {},
   "outputs": [
    {
     "name": "stdout",
     "output_type": "stream",
     "text": [
      " Specific Character Set = 'ISO_IR 100'\n",
      " Image Type = ['ORIGINAL', 'PRIMARY', '']\n",
      " SOP Class UID = '71228e4340de'\n",
      " SOP Instance UID = '65761e66de9f'\n",
      " Study Date = '4545ba78b753'\n",
      " Study Time = 'bf1677526b2b'\n",
      " Accession Number = '5f20f119e3df'\n",
      " Modality = 'DX'\n",
      " Private Creator = 'GEIIS'\n",
      " Patient's Name = 'd47cea7a3b93'\n",
      " Patient ID = '7d3bf0aef747'\n",
      " Patient's Sex = 'F'\n",
      " De-identification Method = 'CTP Default:  based on DICOM PS3.15 AnnexE. Detai...\n",
      " De-identification Method Code Sequence\n",
      "    Code Value = '113100'\n",
      "    Coding Scheme Designator = 'DCM'\n",
      "    Code Meaning = 'Basic Application Confidentiality Profile'\n",
      "   ---------\n",
      "    Code Value = '113105'\n",
      "    Coding Scheme Designator = 'DCM'\n",
      "    Code Meaning = 'Clean Descriptors Option'\n",
      "   ---------\n",
      "    Code Value = '113107'\n",
      "    Coding Scheme Designator = 'DCM'\n",
      "    Code Meaning = 'Retain Longitudinal Temporal Information Modified...\n",
      "   ---------\n",
      "    Code Value = '113108'\n",
      "    Coding Scheme Designator = 'DCM'\n",
      "    Code Meaning = 'Retain Patient Characteristics Option'\n",
      "   ---------\n",
      "    Code Value = '113109'\n",
      "    Coding Scheme Designator = 'DCM'\n",
      "    Code Meaning = 'Retain Device Identity Option'\n",
      "   ---------\n",
      "    Code Value = '11'\n",
      "    Coding Scheme Designator = 'XNAT'\n",
      "    Coding Scheme Version = '1.0'\n",
      "    Code Meaning = 'XNAT DicomEdit 4 Script'\n",
      "   ---------\n",
      " Body Part Examined = 'CHEST'\n",
      " Imager Pixel Spacing = [0.148, 0.148]\n",
      " Study Instance UID = '00086460a852'\n",
      " Series Instance UID = '9e8302230c91'\n",
      " Study ID = '55625fb42f3f'\n",
      " Series Number = \"1\"\n",
      " Instance Number = \"1\"\n",
      " Samples per Pixel = 1\n",
      " Photometric Interpretation = 'MONOCHROME2'\n",
      " Rows = 2330\n",
      " Columns = 2783\n",
      " Bits Allocated = 16\n",
      " Bits Stored = 12\n",
      " High Bit = 11\n",
      " Pixel Representation = 0\n",
      " Private Creator = 'GEIIS PACS'\n",
      " Private Creator = 'GEIIS'\n",
      " Private Creator = 'Philips Imaging DD 001'\n",
      " Private Creator = 'Philips Imaging DD 002'\n",
      " Private Creator = 'Philips RAD Imaging DD 001'\n",
      " Private Creator = 'Philips RAD Imaging DD 097'\n",
      " Private Creator = 'Philips RAD Imaging DD 099'\n",
      " Private Creator = 'GEIIS'\n",
      "<item not printed -- in the \"don't print\" list>\n"
     ]
    }
   ],
   "source": [
    "def myprint(dataset, indent=0):\n",
    "    \"\"\"Go through all items in the dataset and print them with custom format\n",
    "\n",
    "    Modelled after Dataset._pretty_str()\n",
    "    \"\"\"\n",
    "    dont_print = ['Pixel Data', 'File Meta Information Version']\n",
    "\n",
    "    indent_string = \"   \" * indent\n",
    "    next_indent_string = \"   \" * (indent + 1)\n",
    "\n",
    "    for data_element in dataset:\n",
    "        if data_element.VR == \"SQ\":   # a sequence\n",
    "            print(indent_string, data_element.name)\n",
    "            for sequence_item in data_element.value:\n",
    "                myprint(sequence_item, indent + 1)\n",
    "                print(next_indent_string + \"---------\")\n",
    "        else:\n",
    "            if data_element.name in dont_print:\n",
    "                print(\"\"\"<item not printed -- in the \"don't print\" list>\"\"\")\n",
    "            else:\n",
    "                repr_value = repr(data_element.value)\n",
    "                if len(repr_value) > 50:\n",
    "                    repr_value = repr_value[:50] + \"...\"\n",
    "                print(\"{0:s} {1:s} = {2:s}\".format(indent_string,\n",
    "                                                   data_element.name,\n",
    "                                                   repr_value))\n",
    "\n",
    "myprint(DCM)"
   ]
  },
  {
   "cell_type": "markdown",
   "id": "36a4c474",
   "metadata": {},
   "source": [
    "## Train Image Level\n",
    "\n",
    "train_image_level.csv\n",
    "\n",
    "<code>id - unique image identifier\n",
    "boxes - bounding boxes in easily-readable dictionary format\n",
    "label - the correct prediction label for the provided bounding boxes</code>"
   ]
  },
  {
   "cell_type": "code",
   "execution_count": 44,
   "id": "edc097e6",
   "metadata": {},
   "outputs": [],
   "source": [
    "# import csv\n",
    "train_image = pd.read_csv('../input/train_image_level.csv')"
   ]
  },
  {
   "cell_type": "code",
   "execution_count": 47,
   "id": "53c63478",
   "metadata": {},
   "outputs": [
    {
     "name": "stdout",
     "output_type": "stream",
     "text": [
      "<class 'pandas.core.frame.DataFrame'>\n",
      "RangeIndex: 6334 entries, 0 to 6333\n",
      "Data columns (total 4 columns):\n",
      " #   Column            Non-Null Count  Dtype \n",
      "---  ------            --------------  ----- \n",
      " 0   id                6334 non-null   object\n",
      " 1   boxes             4294 non-null   object\n",
      " 2   label             6334 non-null   object\n",
      " 3   StudyInstanceUID  6334 non-null   object\n",
      "dtypes: object(4)\n",
      "memory usage: 198.1+ KB\n"
     ]
    }
   ],
   "source": [
    "# info csv\n",
    "train_image.info()"
   ]
  },
  {
   "cell_type": "code",
   "execution_count": 48,
   "id": "b53ff396",
   "metadata": {},
   "outputs": [
    {
     "data": {
      "text/html": [
       "<div>\n",
       "<style scoped>\n",
       "    .dataframe tbody tr th:only-of-type {\n",
       "        vertical-align: middle;\n",
       "    }\n",
       "\n",
       "    .dataframe tbody tr th {\n",
       "        vertical-align: top;\n",
       "    }\n",
       "\n",
       "    .dataframe thead th {\n",
       "        text-align: right;\n",
       "    }\n",
       "</style>\n",
       "<table border=\"1\" class=\"dataframe\">\n",
       "  <thead>\n",
       "    <tr style=\"text-align: right;\">\n",
       "      <th></th>\n",
       "      <th>id</th>\n",
       "      <th>boxes</th>\n",
       "      <th>label</th>\n",
       "      <th>StudyInstanceUID</th>\n",
       "    </tr>\n",
       "  </thead>\n",
       "  <tbody>\n",
       "    <tr>\n",
       "      <th>0</th>\n",
       "      <td>000a312787f2_image</td>\n",
       "      <td>[{'x': 789.28836, 'y': 582.43035, 'width': 102...</td>\n",
       "      <td>opacity 1 789.28836 582.43035 1815.94498 2499....</td>\n",
       "      <td>5776db0cec75</td>\n",
       "    </tr>\n",
       "    <tr>\n",
       "      <th>1</th>\n",
       "      <td>000c3a3f293f_image</td>\n",
       "      <td>NaN</td>\n",
       "      <td>none 1 0 0 1 1</td>\n",
       "      <td>ff0879eb20ed</td>\n",
       "    </tr>\n",
       "    <tr>\n",
       "      <th>2</th>\n",
       "      <td>0012ff7358bc_image</td>\n",
       "      <td>[{'x': 677.42216, 'y': 197.97662, 'width': 867...</td>\n",
       "      <td>opacity 1 677.42216 197.97662 1545.21983 1197....</td>\n",
       "      <td>9d514ce429a7</td>\n",
       "    </tr>\n",
       "    <tr>\n",
       "      <th>3</th>\n",
       "      <td>001398f4ff4f_image</td>\n",
       "      <td>[{'x': 2729, 'y': 2181.33331, 'width': 948.000...</td>\n",
       "      <td>opacity 1 2729 2181.33331 3677.00012 2785.33331</td>\n",
       "      <td>28dddc8559b2</td>\n",
       "    </tr>\n",
       "    <tr>\n",
       "      <th>4</th>\n",
       "      <td>001bd15d1891_image</td>\n",
       "      <td>[{'x': 623.23328, 'y': 1050, 'width': 714, 'he...</td>\n",
       "      <td>opacity 1 623.23328 1050 1337.23328 2156 opaci...</td>\n",
       "      <td>dfd9fdd85a3e</td>\n",
       "    </tr>\n",
       "  </tbody>\n",
       "</table>\n",
       "</div>"
      ],
      "text/plain": [
       "                   id                                              boxes  \\\n",
       "0  000a312787f2_image  [{'x': 789.28836, 'y': 582.43035, 'width': 102...   \n",
       "1  000c3a3f293f_image                                                NaN   \n",
       "2  0012ff7358bc_image  [{'x': 677.42216, 'y': 197.97662, 'width': 867...   \n",
       "3  001398f4ff4f_image  [{'x': 2729, 'y': 2181.33331, 'width': 948.000...   \n",
       "4  001bd15d1891_image  [{'x': 623.23328, 'y': 1050, 'width': 714, 'he...   \n",
       "\n",
       "                                               label StudyInstanceUID  \n",
       "0  opacity 1 789.28836 582.43035 1815.94498 2499....     5776db0cec75  \n",
       "1                                     none 1 0 0 1 1     ff0879eb20ed  \n",
       "2  opacity 1 677.42216 197.97662 1545.21983 1197....     9d514ce429a7  \n",
       "3    opacity 1 2729 2181.33331 3677.00012 2785.33331     28dddc8559b2  \n",
       "4  opacity 1 623.23328 1050 1337.23328 2156 opaci...     dfd9fdd85a3e  "
      ]
     },
     "execution_count": 48,
     "metadata": {},
     "output_type": "execute_result"
    }
   ],
   "source": [
    "# head of csv\n",
    "train_image.head(5)"
   ]
  }
 ],
 "metadata": {
  "kernelspec": {
   "display_name": "vis",
   "language": "python",
   "name": "vis"
  },
  "language_info": {
   "codemirror_mode": {
    "name": "ipython",
    "version": 3
   },
   "file_extension": ".py",
   "mimetype": "text/x-python",
   "name": "python",
   "nbconvert_exporter": "python",
   "pygments_lexer": "ipython3",
   "version": "3.8.8"
  }
 },
 "nbformat": 4,
 "nbformat_minor": 5
}
