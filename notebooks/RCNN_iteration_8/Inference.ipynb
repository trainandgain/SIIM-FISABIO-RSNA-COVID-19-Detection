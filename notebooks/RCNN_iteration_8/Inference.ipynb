{
 "cells": [
  {
   "cell_type": "markdown",
   "id": "6e8de1c0",
   "metadata": {},
   "source": [
    "# Inference"
   ]
  },
  {
   "cell_type": "code",
   "execution_count": 2,
   "id": "3b6be465",
   "metadata": {},
   "outputs": [],
   "source": [
    "# imports\n",
    "import torch\n",
    "import json\n",
    "import os\n",
    "import pandas as pd\n",
    "import numpy as np\n",
    "import seaborn as sns\n",
    "import matplotlib.pyplot as plt\n",
    "from tqdm import tqdm"
   ]
  },
  {
   "cell_type": "code",
   "execution_count": 3,
   "id": "e08f56f2",
   "metadata": {},
   "outputs": [],
   "source": [
    "# paths \n",
    "seven_path = '../../models/iteration_7/FasterRCNNDetector/'\n",
    "eight_path = '../../models/iteration_8/FasterRCNNDetector/'"
   ]
  },
  {
   "cell_type": "markdown",
   "id": "7a508094",
   "metadata": {},
   "source": [
    "# Help Functions"
   ]
  },
  {
   "cell_type": "code",
   "execution_count": 4,
   "id": "722d19ac",
   "metadata": {},
   "outputs": [],
   "source": [
    "def load_logs(path):\n",
    "    # load logging\n",
    "    with open(os.path.join(path, 'FasterRCNNDetector.json')) as file:\n",
    "        data = file.read()\n",
    "        file.close()\n",
    "\n",
    "    obj = json.loads(data)\n",
    "    print(obj.keys())\n",
    "    return(obj)"
   ]
  },
  {
   "cell_type": "code",
   "execution_count": 5,
   "id": "9198a396",
   "metadata": {},
   "outputs": [],
   "source": [
    "def print_setup(obj):\n",
    "    for k, v in obj.items():\n",
    "        if k == 'data':\n",
    "            continue\n",
    "        print(f'{k}: {v}')"
   ]
  },
  {
   "cell_type": "code",
   "execution_count": 17,
   "id": "8b6ad44d",
   "metadata": {},
   "outputs": [],
   "source": [
    "# load df\n",
    "def model_epochs_dataframe(model_list):\n",
    "    data = {\n",
    "        # model\n",
    "        'epoch': [],\n",
    "        'loss': [],\n",
    "        'image_precision': [],\n",
    "        # optmiser\n",
    "        'lr': [],\n",
    "    }\n",
    "\n",
    "    for i in range(len(model_list)):\n",
    "        # temporary storage\n",
    "        temp = model_list[i]\n",
    "        temp_optimiser = temp['optimizer_state_dict']['param_groups'][0]\n",
    "        temp_scheduler = temp['scheduler_state_dict']\n",
    "        # append data\n",
    "        data['epoch'].append(temp['epoch'])\n",
    "        data['loss'].append(temp['loss'])\n",
    "        data['image_precision'].append(temp['image_precision'])\n",
    "        data['lr'].append(temp_optimiser['lr'])\n",
    "\n",
    "    return(pd.DataFrame(data))"
   ]
  },
  {
   "cell_type": "code",
   "execution_count": 18,
   "id": "0b19c5f3",
   "metadata": {},
   "outputs": [],
   "source": [
    "# load models\n",
    "def load_epochs(obj, path, NB_EPOCHS):\n",
    "    model_list = []\n",
    "    for i in tqdm(range(NB_EPOCHS)):\n",
    "        model = torch.load(os.path.join(path, 'epoch_{}.pth'.format(i)), \n",
    "                   map_location=torch.device('cpu'))\n",
    "        model_list.append(model)\n",
    "    return(model_list)"
   ]
  },
  {
   "cell_type": "markdown",
   "id": "41de8c68",
   "metadata": {},
   "source": [
    "# Load"
   ]
  },
  {
   "cell_type": "code",
   "execution_count": 19,
   "id": "7c06bff6",
   "metadata": {
    "scrolled": false
   },
   "outputs": [
    {
     "name": "stdout",
     "output_type": "stream",
     "text": [
      "dict_keys(['model', 'optim', 'scheduler', 'train_samples', 'val_samples', 'device', 'train_pcent', 'TRAIN_BS', 'VALID_BS', 'NB_EPOCHS', 'model_name', 'reshape_size', 'num_classes', 'seed', 'iou_threshold', 'mean', 'std', 'max_pixel_value', 'val_fold', 'save_path', 'data', 'final_loss', 'final_metric'])\n",
      "dict_keys(['config', 'data', 'model', 'loop', 'loss', 'train', 'metric', 'optimiser', 'scheduler', 'transform', 'output', 'logs'])\n"
     ]
    }
   ],
   "source": [
    "# load logs\n",
    "seven_obj = load_logs(seven_path)\n",
    "eight_obj = load_logs(eight_path)"
   ]
  },
  {
   "cell_type": "code",
   "execution_count": 9,
   "id": "2d200277",
   "metadata": {
    "scrolled": true
   },
   "outputs": [
    {
     "name": "stderr",
     "output_type": "stream",
     "text": [
      "100%|██████████| 20/20 [00:05<00:00,  3.52it/s]\n",
      "100%|██████████| 8/8 [00:02<00:00,  3.78it/s]\n"
     ]
    }
   ],
   "source": [
    "# load models\n",
    "seven_models = load_epochs(seven_obj, seven_path, seven_obj['NB_EPOCHS'])\n",
    "eight_models = load_epochs(eight_obj, eight_path, eight_obj['train']['num_epochs'])"
   ]
  },
  {
   "cell_type": "code",
   "execution_count": 21,
   "id": "5446a355",
   "metadata": {},
   "outputs": [],
   "source": [
    "# load dataframe\n",
    "seven_df = model_epochs_dataframe(seven_models)\n",
    "eight_df = model_epochs_dataframe(eight_models)"
   ]
  },
  {
   "cell_type": "code",
   "execution_count": 34,
   "id": "20555897",
   "metadata": {},
   "outputs": [
    {
     "data": {
      "image/png": "[encoded data removed]",
      "text/plain": [
       "<Figure size 432x288 with 1 Axes>"
      ]
     },
     "metadata": {
      "needs_background": "light"
     },
     "output_type": "display_data"
    }
   ],
   "source": [
    "sns.lineplot(data=eight_df, x='epoch', y='image_precision', \n",
    "             hue='lr', palette='Dark2').set(title='Precision Rate over Epochs')\n",
    "plt.show()"
   ]
  },
  {
   "cell_type": "code",
   "execution_count": null,
   "id": "44bdd2c7",
   "metadata": {},
   "outputs": [],
   "source": []
  }
 ],
 "metadata": {
  "kernelspec": {
   "display_name": "ml",
   "language": "python",
   "name": "ml"
  },
  "language_info": {
   "codemirror_mode": {
    "name": "ipython",
    "version": 3
   },
   "file_extension": ".py",
   "mimetype": "text/x-python",
   "name": "python",
   "nbconvert_exporter": "python",
   "pygments_lexer": "ipython3",
   "version": "3.8.10"
  }
 },
 "nbformat": 4,
 "nbformat_minor": 5
}
