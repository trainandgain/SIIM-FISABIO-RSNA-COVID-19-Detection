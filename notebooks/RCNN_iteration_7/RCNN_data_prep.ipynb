{
 "cells": [
  {
   "cell_type": "markdown",
   "id": "differential-current",
   "metadata": {},
   "source": [
    "# Data Prep\n",
    "\n",
    "For our end csv file we want the headers:\n",
    "\n",
    "<code>id | StudyInstanceUID | human_label | integer_label | Negative for Pneumonia Typical Appearance | Indeterminate Appearance | Atypical Appearance | opacity_count | x | y | width | height | file_path | image_width | image_height | image_shape</code>\n",
    "\n",
    "This should give us the appropiate information to use Faster RCNN."
   ]
  },
  {
   "cell_type": "code",
   "execution_count": 1,
   "id": "diagnostic-token",
   "metadata": {},
   "outputs": [],
   "source": [
    "# imports\n",
    "import pandas as pd\n",
    "import matplotlib.pyplot as plt\n",
    "import matplotlib\n",
    "import seaborn as sns\n",
    "import numpy as np\n",
    "import pydicom\n",
    "from pydicom.pixel_data_handlers.util import apply_voi_lut\n",
    "from PIL import Image\n",
    "import cv2\n",
    "import ast\n",
    "from tqdm import tqdm\n",
    "import glob\n",
    "import os\n",
    "import pydicom"
   ]
  },
  {
   "cell_type": "code",
   "execution_count": 2,
   "id": "descending-doctor",
   "metadata": {},
   "outputs": [],
   "source": [
    "# import csv\n",
    "train_study = pd.read_csv('../input/train_study_level.csv')\n",
    "# import csv\n",
    "train_image = pd.read_csv('../input/train_image_level.csv')"
   ]
  },
  {
   "cell_type": "code",
   "execution_count": 3,
   "id": "primary-consultation",
   "metadata": {},
   "outputs": [
    {
     "data": {
      "text/html": [
       "<div>\n",
       "<style scoped>\n",
       "    .dataframe tbody tr th:only-of-type {\n",
       "        vertical-align: middle;\n",
       "    }\n",
       "\n",
       "    .dataframe tbody tr th {\n",
       "        vertical-align: top;\n",
       "    }\n",
       "\n",
       "    .dataframe thead th {\n",
       "        text-align: right;\n",
       "    }\n",
       "</style>\n",
       "<table border=\"1\" class=\"dataframe\">\n",
       "  <thead>\n",
       "    <tr style=\"text-align: right;\">\n",
       "      <th></th>\n",
       "      <th>id</th>\n",
       "      <th>Negative for Pneumonia</th>\n",
       "      <th>Typical Appearance</th>\n",
       "      <th>Indeterminate Appearance</th>\n",
       "      <th>Atypical Appearance</th>\n",
       "    </tr>\n",
       "  </thead>\n",
       "  <tbody>\n",
       "    <tr>\n",
       "      <th>0</th>\n",
       "      <td>00086460a852_study</td>\n",
       "      <td>0</td>\n",
       "      <td>1</td>\n",
       "      <td>0</td>\n",
       "      <td>0</td>\n",
       "    </tr>\n",
       "  </tbody>\n",
       "</table>\n",
       "</div>"
      ],
      "text/plain": [
       "                   id  Negative for Pneumonia  Typical Appearance  \\\n",
       "0  00086460a852_study                       0                   1   \n",
       "\n",
       "   Indeterminate Appearance  Atypical Appearance  \n",
       "0                         0                    0  "
      ]
     },
     "execution_count": 3,
     "metadata": {},
     "output_type": "execute_result"
    }
   ],
   "source": [
    "train_study.head(1)"
   ]
  },
  {
   "cell_type": "code",
   "execution_count": 4,
   "id": "southwest-royalty",
   "metadata": {},
   "outputs": [
    {
     "data": {
      "text/html": [
       "<div>\n",
       "<style scoped>\n",
       "    .dataframe tbody tr th:only-of-type {\n",
       "        vertical-align: middle;\n",
       "    }\n",
       "\n",
       "    .dataframe tbody tr th {\n",
       "        vertical-align: top;\n",
       "    }\n",
       "\n",
       "    .dataframe thead th {\n",
       "        text-align: right;\n",
       "    }\n",
       "</style>\n",
       "<table border=\"1\" class=\"dataframe\">\n",
       "  <thead>\n",
       "    <tr style=\"text-align: right;\">\n",
       "      <th></th>\n",
       "      <th>id</th>\n",
       "      <th>boxes</th>\n",
       "      <th>label</th>\n",
       "      <th>StudyInstanceUID</th>\n",
       "    </tr>\n",
       "  </thead>\n",
       "  <tbody>\n",
       "    <tr>\n",
       "      <th>0</th>\n",
       "      <td>000a312787f2_image</td>\n",
       "      <td>[{'x': 789.28836, 'y': 582.43035, 'width': 102...</td>\n",
       "      <td>opacity 1 789.28836 582.43035 1815.94498 2499....</td>\n",
       "      <td>5776db0cec75</td>\n",
       "    </tr>\n",
       "  </tbody>\n",
       "</table>\n",
       "</div>"
      ],
      "text/plain": [
       "                   id                                              boxes  \\\n",
       "0  000a312787f2_image  [{'x': 789.28836, 'y': 582.43035, 'width': 102...   \n",
       "\n",
       "                                               label StudyInstanceUID  \n",
       "0  opacity 1 789.28836 582.43035 1815.94498 2499....     5776db0cec75  "
      ]
     },
     "execution_count": 4,
     "metadata": {},
     "output_type": "execute_result"
    }
   ],
   "source": [
    "train_image.head(1)"
   ]
  },
  {
   "cell_type": "markdown",
   "id": "sharp-finland",
   "metadata": {},
   "source": [
    "## Extract ID and Merge\n",
    "\n",
    "We want to merge the two datasets on StudyInstanceUID, this will be our starting dataset..."
   ]
  },
  {
   "cell_type": "code",
   "execution_count": 5,
   "id": "demonstrated-royal",
   "metadata": {},
   "outputs": [],
   "source": [
    "# split and extract id\n",
    "train_study['id'] = train_study['id'].str.split('_').apply(lambda x: x[0])\n",
    "# rename for merging\n",
    "train_study = train_study.rename({'id':'StudyInstanceUID'}, axis=1)\n",
    "# merge datasets\n",
    "train = pd.merge(train_image, train_study, on='StudyInstanceUID')\n",
    "# split id column\n",
    "train['id'] = train['id'].str.split('_').apply(lambda x: x[0])"
   ]
  },
  {
   "cell_type": "code",
   "execution_count": 6,
   "id": "nonprofit-tragedy",
   "metadata": {},
   "outputs": [
    {
     "data": {
      "text/html": [
       "<div>\n",
       "<style scoped>\n",
       "    .dataframe tbody tr th:only-of-type {\n",
       "        vertical-align: middle;\n",
       "    }\n",
       "\n",
       "    .dataframe tbody tr th {\n",
       "        vertical-align: top;\n",
       "    }\n",
       "\n",
       "    .dataframe thead th {\n",
       "        text-align: right;\n",
       "    }\n",
       "</style>\n",
       "<table border=\"1\" class=\"dataframe\">\n",
       "  <thead>\n",
       "    <tr style=\"text-align: right;\">\n",
       "      <th></th>\n",
       "      <th>id</th>\n",
       "      <th>boxes</th>\n",
       "      <th>label</th>\n",
       "      <th>StudyInstanceUID</th>\n",
       "      <th>Negative for Pneumonia</th>\n",
       "      <th>Typical Appearance</th>\n",
       "      <th>Indeterminate Appearance</th>\n",
       "      <th>Atypical Appearance</th>\n",
       "    </tr>\n",
       "  </thead>\n",
       "  <tbody>\n",
       "    <tr>\n",
       "      <th>0</th>\n",
       "      <td>000a312787f2</td>\n",
       "      <td>[{'x': 789.28836, 'y': 582.43035, 'width': 102...</td>\n",
       "      <td>opacity 1 789.28836 582.43035 1815.94498 2499....</td>\n",
       "      <td>5776db0cec75</td>\n",
       "      <td>0</td>\n",
       "      <td>1</td>\n",
       "      <td>0</td>\n",
       "      <td>0</td>\n",
       "    </tr>\n",
       "  </tbody>\n",
       "</table>\n",
       "</div>"
      ],
      "text/plain": [
       "             id                                              boxes  \\\n",
       "0  000a312787f2  [{'x': 789.28836, 'y': 582.43035, 'width': 102...   \n",
       "\n",
       "                                               label StudyInstanceUID  \\\n",
       "0  opacity 1 789.28836 582.43035 1815.94498 2499....     5776db0cec75   \n",
       "\n",
       "   Negative for Pneumonia  Typical Appearance  Indeterminate Appearance  \\\n",
       "0                       0                   1                         0   \n",
       "\n",
       "   Atypical Appearance  \n",
       "0                    0  "
      ]
     },
     "execution_count": 6,
     "metadata": {},
     "output_type": "execute_result"
    }
   ],
   "source": [
    "train.head(1)"
   ]
  },
  {
   "cell_type": "markdown",
   "id": "discrete-programming",
   "metadata": {},
   "source": [
    "## Opacity Count\n",
    "\n",
    "The opacity count, is the number of classes in an image. So within the label comment, it will give information regarding the bounding box. We wish to count the number of boxes within a picture."
   ]
  },
  {
   "cell_type": "code",
   "execution_count": 7,
   "id": "pointed-transfer",
   "metadata": {},
   "outputs": [],
   "source": [
    "train['opacity_count'] = train['label'].str.count('opacity')"
   ]
  },
  {
   "cell_type": "code",
   "execution_count": 8,
   "id": "robust-evening",
   "metadata": {},
   "outputs": [
    {
     "data": {
      "text/html": [
       "<div>\n",
       "<style scoped>\n",
       "    .dataframe tbody tr th:only-of-type {\n",
       "        vertical-align: middle;\n",
       "    }\n",
       "\n",
       "    .dataframe tbody tr th {\n",
       "        vertical-align: top;\n",
       "    }\n",
       "\n",
       "    .dataframe thead th {\n",
       "        text-align: right;\n",
       "    }\n",
       "</style>\n",
       "<table border=\"1\" class=\"dataframe\">\n",
       "  <thead>\n",
       "    <tr style=\"text-align: right;\">\n",
       "      <th></th>\n",
       "      <th>id</th>\n",
       "      <th>boxes</th>\n",
       "      <th>label</th>\n",
       "      <th>StudyInstanceUID</th>\n",
       "      <th>Negative for Pneumonia</th>\n",
       "      <th>Typical Appearance</th>\n",
       "      <th>Indeterminate Appearance</th>\n",
       "      <th>Atypical Appearance</th>\n",
       "      <th>opacity_count</th>\n",
       "    </tr>\n",
       "  </thead>\n",
       "  <tbody>\n",
       "    <tr>\n",
       "      <th>0</th>\n",
       "      <td>000a312787f2</td>\n",
       "      <td>[{'x': 789.28836, 'y': 582.43035, 'width': 102...</td>\n",
       "      <td>opacity 1 789.28836 582.43035 1815.94498 2499....</td>\n",
       "      <td>5776db0cec75</td>\n",
       "      <td>0</td>\n",
       "      <td>1</td>\n",
       "      <td>0</td>\n",
       "      <td>0</td>\n",
       "      <td>2</td>\n",
       "    </tr>\n",
       "  </tbody>\n",
       "</table>\n",
       "</div>"
      ],
      "text/plain": [
       "             id                                              boxes  \\\n",
       "0  000a312787f2  [{'x': 789.28836, 'y': 582.43035, 'width': 102...   \n",
       "\n",
       "                                               label StudyInstanceUID  \\\n",
       "0  opacity 1 789.28836 582.43035 1815.94498 2499....     5776db0cec75   \n",
       "\n",
       "   Negative for Pneumonia  Typical Appearance  Indeterminate Appearance  \\\n",
       "0                       0                   1                         0   \n",
       "\n",
       "   Atypical Appearance  opacity_count  \n",
       "0                    0              2  "
      ]
     },
     "execution_count": 8,
     "metadata": {},
     "output_type": "execute_result"
    }
   ],
   "source": [
    "train.head(1)"
   ]
  },
  {
   "cell_type": "markdown",
   "id": "spare-detail",
   "metadata": {},
   "source": [
    "Just to prove that the opacity count, counts the number of boxes here is a comparision..."
   ]
  },
  {
   "cell_type": "code",
   "execution_count": 9,
   "id": "round-robinson",
   "metadata": {},
   "outputs": [
    {
     "name": "stdout",
     "output_type": "stream",
     "text": [
      "['000a312787f2'\n",
      " \"[{'x': 789.28836, 'y': 582.43035, 'width': 1026.65662, 'height': 1917.30292}, {'x': 2245.91208, 'y': 591.20528, 'width': 1094.66162, 'height': 1761.54944}]\"\n",
      " 2]\n",
      "['0171f8209991'\n",
      " \"[{'x': 65.20329, 'y': 180.37412, 'width': 533.12551, 'height': 637.97346}, {'x': 643.64447, 'y': 238.12938, 'width': 424.72339, 'height': 443.38271}]\"\n",
      " 2]\n",
      "['036fe057963a'\n",
      " \"[{'x': 488.78241, 'y': 957.77525, 'width': 329.96524, 'height': 572.32904}]\"\n",
      " 1]\n"
     ]
    }
   ],
   "source": [
    "print(train.loc[0, ['id', 'boxes', 'opacity_count']].values)\n",
    "print(train.loc[50, ['id', 'boxes', 'opacity_count']].values)\n",
    "print(train.loc[100, ['id', 'boxes', 'opacity_count']].values)"
   ]
  },
  {
   "cell_type": "markdown",
   "id": "approved-recipe",
   "metadata": {},
   "source": [
    "As you can see the number of boxes within the boxes list is equal to the opacity_count..."
   ]
  },
  {
   "cell_type": "markdown",
   "id": "developed-purple",
   "metadata": {},
   "source": [
    "## Labels for Humans and Machines\n",
    "\n",
    "We wish to create two new columns, one for a human to read what the row label is and a number indicating the label.\n",
    "\n",
    "Mapping:\n",
    "\n",
    "<code>{0: 'Negative for Pneumonia',\n",
    "1: 'Typical Appearance',\n",
    "2: 'Indeterminate Appearance',\n",
    "3: 'Atypical Appearance'}</code>"
   ]
  },
  {
   "cell_type": "markdown",
   "id": "narrative-irrigation",
   "metadata": {},
   "source": [
    "### Integer Label"
   ]
  },
  {
   "cell_type": "code",
   "execution_count": 10,
   "id": "bound-policy",
   "metadata": {},
   "outputs": [],
   "source": [
    "labels = ['Negative for Pneumonia', 'Typical Appearance', 'Indeterminate Appearance', 'Atypical Appearance']"
   ]
  },
  {
   "cell_type": "code",
   "execution_count": 11,
   "id": "embedded-buffer",
   "metadata": {
    "scrolled": false
   },
   "outputs": [
    {
     "data": {
      "text/plain": [
       "Negative for Pneumonia      1736\n",
       "Typical Appearance          3007\n",
       "Indeterminate Appearance    1108\n",
       "Atypical Appearance          483\n",
       "dtype: int64"
      ]
     },
     "execution_count": 11,
     "metadata": {},
     "output_type": "execute_result"
    },
    {
     "data": {
      "image/png": "[encoded data removed]",
      "text/plain": [
       "<Figure size 432x288 with 1 Axes>"
      ]
     },
     "metadata": {
      "needs_background": "light"
     },
     "output_type": "display_data"
    }
   ],
   "source": [
    "train[labels].sum().plot(kind = 'bar')\n",
    "train[labels].sum()"
   ]
  },
  {
   "cell_type": "code",
   "execution_count": 12,
   "id": "colored-louisiana",
   "metadata": {},
   "outputs": [],
   "source": [
    "train['integer_label'] = [element.index(1) for element in train[labels].values.tolist()]"
   ]
  },
  {
   "cell_type": "code",
   "execution_count": 13,
   "id": "unavailable-illinois",
   "metadata": {},
   "outputs": [
    {
     "data": {
      "text/html": [
       "<div>\n",
       "<style scoped>\n",
       "    .dataframe tbody tr th:only-of-type {\n",
       "        vertical-align: middle;\n",
       "    }\n",
       "\n",
       "    .dataframe tbody tr th {\n",
       "        vertical-align: top;\n",
       "    }\n",
       "\n",
       "    .dataframe thead th {\n",
       "        text-align: right;\n",
       "    }\n",
       "</style>\n",
       "<table border=\"1\" class=\"dataframe\">\n",
       "  <thead>\n",
       "    <tr style=\"text-align: right;\">\n",
       "      <th></th>\n",
       "      <th>id</th>\n",
       "      <th>boxes</th>\n",
       "      <th>label</th>\n",
       "      <th>StudyInstanceUID</th>\n",
       "      <th>Negative for Pneumonia</th>\n",
       "      <th>Typical Appearance</th>\n",
       "      <th>Indeterminate Appearance</th>\n",
       "      <th>Atypical Appearance</th>\n",
       "      <th>opacity_count</th>\n",
       "      <th>integer_label</th>\n",
       "    </tr>\n",
       "  </thead>\n",
       "  <tbody>\n",
       "    <tr>\n",
       "      <th>0</th>\n",
       "      <td>000a312787f2</td>\n",
       "      <td>[{'x': 789.28836, 'y': 582.43035, 'width': 102...</td>\n",
       "      <td>opacity 1 789.28836 582.43035 1815.94498 2499....</td>\n",
       "      <td>5776db0cec75</td>\n",
       "      <td>0</td>\n",
       "      <td>1</td>\n",
       "      <td>0</td>\n",
       "      <td>0</td>\n",
       "      <td>2</td>\n",
       "      <td>1</td>\n",
       "    </tr>\n",
       "    <tr>\n",
       "      <th>1</th>\n",
       "      <td>000c3a3f293f</td>\n",
       "      <td>NaN</td>\n",
       "      <td>none 1 0 0 1 1</td>\n",
       "      <td>ff0879eb20ed</td>\n",
       "      <td>1</td>\n",
       "      <td>0</td>\n",
       "      <td>0</td>\n",
       "      <td>0</td>\n",
       "      <td>0</td>\n",
       "      <td>0</td>\n",
       "    </tr>\n",
       "    <tr>\n",
       "      <th>2</th>\n",
       "      <td>0012ff7358bc</td>\n",
       "      <td>[{'x': 677.42216, 'y': 197.97662, 'width': 867...</td>\n",
       "      <td>opacity 1 677.42216 197.97662 1545.21983 1197....</td>\n",
       "      <td>9d514ce429a7</td>\n",
       "      <td>0</td>\n",
       "      <td>1</td>\n",
       "      <td>0</td>\n",
       "      <td>0</td>\n",
       "      <td>2</td>\n",
       "      <td>1</td>\n",
       "    </tr>\n",
       "    <tr>\n",
       "      <th>3</th>\n",
       "      <td>001398f4ff4f</td>\n",
       "      <td>[{'x': 2729, 'y': 2181.33331, 'width': 948.000...</td>\n",
       "      <td>opacity 1 2729 2181.33331 3677.00012 2785.33331</td>\n",
       "      <td>28dddc8559b2</td>\n",
       "      <td>0</td>\n",
       "      <td>0</td>\n",
       "      <td>0</td>\n",
       "      <td>1</td>\n",
       "      <td>1</td>\n",
       "      <td>3</td>\n",
       "    </tr>\n",
       "    <tr>\n",
       "      <th>4</th>\n",
       "      <td>001bd15d1891</td>\n",
       "      <td>[{'x': 623.23328, 'y': 1050, 'width': 714, 'he...</td>\n",
       "      <td>opacity 1 623.23328 1050 1337.23328 2156 opaci...</td>\n",
       "      <td>dfd9fdd85a3e</td>\n",
       "      <td>0</td>\n",
       "      <td>1</td>\n",
       "      <td>0</td>\n",
       "      <td>0</td>\n",
       "      <td>2</td>\n",
       "      <td>1</td>\n",
       "    </tr>\n",
       "  </tbody>\n",
       "</table>\n",
       "</div>"
      ],
      "text/plain": [
       "             id                                              boxes  \\\n",
       "0  000a312787f2  [{'x': 789.28836, 'y': 582.43035, 'width': 102...   \n",
       "1  000c3a3f293f                                                NaN   \n",
       "2  0012ff7358bc  [{'x': 677.42216, 'y': 197.97662, 'width': 867...   \n",
       "3  001398f4ff4f  [{'x': 2729, 'y': 2181.33331, 'width': 948.000...   \n",
       "4  001bd15d1891  [{'x': 623.23328, 'y': 1050, 'width': 714, 'he...   \n",
       "\n",
       "                                               label StudyInstanceUID  \\\n",
       "0  opacity 1 789.28836 582.43035 1815.94498 2499....     5776db0cec75   \n",
       "1                                     none 1 0 0 1 1     ff0879eb20ed   \n",
       "2  opacity 1 677.42216 197.97662 1545.21983 1197....     9d514ce429a7   \n",
       "3    opacity 1 2729 2181.33331 3677.00012 2785.33331     28dddc8559b2   \n",
       "4  opacity 1 623.23328 1050 1337.23328 2156 opaci...     dfd9fdd85a3e   \n",
       "\n",
       "   Negative for Pneumonia  Typical Appearance  Indeterminate Appearance  \\\n",
       "0                       0                   1                         0   \n",
       "1                       1                   0                         0   \n",
       "2                       0                   1                         0   \n",
       "3                       0                   0                         0   \n",
       "4                       0                   1                         0   \n",
       "\n",
       "   Atypical Appearance  opacity_count  integer_label  \n",
       "0                    0              2              1  \n",
       "1                    0              0              0  \n",
       "2                    0              2              1  \n",
       "3                    1              1              3  \n",
       "4                    0              2              1  "
      ]
     },
     "execution_count": 13,
     "metadata": {},
     "output_type": "execute_result"
    }
   ],
   "source": [
    "train.head(5)"
   ]
  },
  {
   "cell_type": "markdown",
   "id": "secure-hollywood",
   "metadata": {},
   "source": [
    "### Human Label\n",
    "\n",
    "applying integer_label to mapping..."
   ]
  },
  {
   "cell_type": "code",
   "execution_count": 14,
   "id": "american-relief",
   "metadata": {},
   "outputs": [],
   "source": [
    "mapping = {0: 'Negative for Pneumonia',\n",
    "1: 'Typical Appearance',\n",
    "2: 'Indeterminate Appearance',\n",
    "3: 'Atypical Appearance'}"
   ]
  },
  {
   "cell_type": "code",
   "execution_count": 15,
   "id": "obvious-cheese",
   "metadata": {},
   "outputs": [],
   "source": [
    "train['human_label'] = train.integer_label.apply(lambda x: mapping[x])"
   ]
  },
  {
   "cell_type": "code",
   "execution_count": 16,
   "id": "accessible-texas",
   "metadata": {},
   "outputs": [
    {
     "data": {
      "text/html": [
       "<div>\n",
       "<style scoped>\n",
       "    .dataframe tbody tr th:only-of-type {\n",
       "        vertical-align: middle;\n",
       "    }\n",
       "\n",
       "    .dataframe tbody tr th {\n",
       "        vertical-align: top;\n",
       "    }\n",
       "\n",
       "    .dataframe thead th {\n",
       "        text-align: right;\n",
       "    }\n",
       "</style>\n",
       "<table border=\"1\" class=\"dataframe\">\n",
       "  <thead>\n",
       "    <tr style=\"text-align: right;\">\n",
       "      <th></th>\n",
       "      <th>id</th>\n",
       "      <th>boxes</th>\n",
       "      <th>label</th>\n",
       "      <th>StudyInstanceUID</th>\n",
       "      <th>Negative for Pneumonia</th>\n",
       "      <th>Typical Appearance</th>\n",
       "      <th>Indeterminate Appearance</th>\n",
       "      <th>Atypical Appearance</th>\n",
       "      <th>opacity_count</th>\n",
       "      <th>integer_label</th>\n",
       "      <th>human_label</th>\n",
       "    </tr>\n",
       "  </thead>\n",
       "  <tbody>\n",
       "    <tr>\n",
       "      <th>0</th>\n",
       "      <td>000a312787f2</td>\n",
       "      <td>[{'x': 789.28836, 'y': 582.43035, 'width': 102...</td>\n",
       "      <td>opacity 1 789.28836 582.43035 1815.94498 2499....</td>\n",
       "      <td>5776db0cec75</td>\n",
       "      <td>0</td>\n",
       "      <td>1</td>\n",
       "      <td>0</td>\n",
       "      <td>0</td>\n",
       "      <td>2</td>\n",
       "      <td>1</td>\n",
       "      <td>Typical Appearance</td>\n",
       "    </tr>\n",
       "    <tr>\n",
       "      <th>1</th>\n",
       "      <td>000c3a3f293f</td>\n",
       "      <td>NaN</td>\n",
       "      <td>none 1 0 0 1 1</td>\n",
       "      <td>ff0879eb20ed</td>\n",
       "      <td>1</td>\n",
       "      <td>0</td>\n",
       "      <td>0</td>\n",
       "      <td>0</td>\n",
       "      <td>0</td>\n",
       "      <td>0</td>\n",
       "      <td>Negative for Pneumonia</td>\n",
       "    </tr>\n",
       "    <tr>\n",
       "      <th>2</th>\n",
       "      <td>0012ff7358bc</td>\n",
       "      <td>[{'x': 677.42216, 'y': 197.97662, 'width': 867...</td>\n",
       "      <td>opacity 1 677.42216 197.97662 1545.21983 1197....</td>\n",
       "      <td>9d514ce429a7</td>\n",
       "      <td>0</td>\n",
       "      <td>1</td>\n",
       "      <td>0</td>\n",
       "      <td>0</td>\n",
       "      <td>2</td>\n",
       "      <td>1</td>\n",
       "      <td>Typical Appearance</td>\n",
       "    </tr>\n",
       "    <tr>\n",
       "      <th>3</th>\n",
       "      <td>001398f4ff4f</td>\n",
       "      <td>[{'x': 2729, 'y': 2181.33331, 'width': 948.000...</td>\n",
       "      <td>opacity 1 2729 2181.33331 3677.00012 2785.33331</td>\n",
       "      <td>28dddc8559b2</td>\n",
       "      <td>0</td>\n",
       "      <td>0</td>\n",
       "      <td>0</td>\n",
       "      <td>1</td>\n",
       "      <td>1</td>\n",
       "      <td>3</td>\n",
       "      <td>Atypical Appearance</td>\n",
       "    </tr>\n",
       "    <tr>\n",
       "      <th>4</th>\n",
       "      <td>001bd15d1891</td>\n",
       "      <td>[{'x': 623.23328, 'y': 1050, 'width': 714, 'he...</td>\n",
       "      <td>opacity 1 623.23328 1050 1337.23328 2156 opaci...</td>\n",
       "      <td>dfd9fdd85a3e</td>\n",
       "      <td>0</td>\n",
       "      <td>1</td>\n",
       "      <td>0</td>\n",
       "      <td>0</td>\n",
       "      <td>2</td>\n",
       "      <td>1</td>\n",
       "      <td>Typical Appearance</td>\n",
       "    </tr>\n",
       "  </tbody>\n",
       "</table>\n",
       "</div>"
      ],
      "text/plain": [
       "             id                                              boxes  \\\n",
       "0  000a312787f2  [{'x': 789.28836, 'y': 582.43035, 'width': 102...   \n",
       "1  000c3a3f293f                                                NaN   \n",
       "2  0012ff7358bc  [{'x': 677.42216, 'y': 197.97662, 'width': 867...   \n",
       "3  001398f4ff4f  [{'x': 2729, 'y': 2181.33331, 'width': 948.000...   \n",
       "4  001bd15d1891  [{'x': 623.23328, 'y': 1050, 'width': 714, 'he...   \n",
       "\n",
       "                                               label StudyInstanceUID  \\\n",
       "0  opacity 1 789.28836 582.43035 1815.94498 2499....     5776db0cec75   \n",
       "1                                     none 1 0 0 1 1     ff0879eb20ed   \n",
       "2  opacity 1 677.42216 197.97662 1545.21983 1197....     9d514ce429a7   \n",
       "3    opacity 1 2729 2181.33331 3677.00012 2785.33331     28dddc8559b2   \n",
       "4  opacity 1 623.23328 1050 1337.23328 2156 opaci...     dfd9fdd85a3e   \n",
       "\n",
       "   Negative for Pneumonia  Typical Appearance  Indeterminate Appearance  \\\n",
       "0                       0                   1                         0   \n",
       "1                       1                   0                         0   \n",
       "2                       0                   1                         0   \n",
       "3                       0                   0                         0   \n",
       "4                       0                   1                         0   \n",
       "\n",
       "   Atypical Appearance  opacity_count  integer_label             human_label  \n",
       "0                    0              2              1      Typical Appearance  \n",
       "1                    0              0              0  Negative for Pneumonia  \n",
       "2                    0              2              1      Typical Appearance  \n",
       "3                    1              1              3     Atypical Appearance  \n",
       "4                    0              2              1      Typical Appearance  "
      ]
     },
     "execution_count": 16,
     "metadata": {},
     "output_type": "execute_result"
    }
   ],
   "source": [
    "train.head(5)"
   ]
  },
  {
   "cell_type": "markdown",
   "id": "distributed-melbourne",
   "metadata": {},
   "source": [
    "## Image Dimensions\n",
    "\n",
    "Now comes the lengthy bit, we want to find the image dimensions for each image and insert into our dataframe. This will be useful for feature engineering and also resizing the bounding boxes."
   ]
  },
  {
   "cell_type": "markdown",
   "id": "professional-tunisia",
   "metadata": {},
   "source": [
    "### Generate File Paths"
   ]
  },
  {
   "cell_type": "code",
   "execution_count": 17,
   "id": "hired-turkey",
   "metadata": {
    "scrolled": false
   },
   "outputs": [
    {
     "name": "stderr",
     "output_type": "stream",
     "text": [
      "100%|██████████████████████████████████████████████████████████| 6334/6334 [00:00<00:00, 6906.00it/s]\n"
     ]
    },
    {
     "data": {
      "text/html": [
       "<div>\n",
       "<style scoped>\n",
       "    .dataframe tbody tr th:only-of-type {\n",
       "        vertical-align: middle;\n",
       "    }\n",
       "\n",
       "    .dataframe tbody tr th {\n",
       "        vertical-align: top;\n",
       "    }\n",
       "\n",
       "    .dataframe thead th {\n",
       "        text-align: right;\n",
       "    }\n",
       "</style>\n",
       "<table border=\"1\" class=\"dataframe\">\n",
       "  <thead>\n",
       "    <tr style=\"text-align: right;\">\n",
       "      <th></th>\n",
       "      <th>id</th>\n",
       "      <th>boxes</th>\n",
       "      <th>label</th>\n",
       "      <th>StudyInstanceUID</th>\n",
       "      <th>Negative for Pneumonia</th>\n",
       "      <th>Typical Appearance</th>\n",
       "      <th>Indeterminate Appearance</th>\n",
       "      <th>Atypical Appearance</th>\n",
       "      <th>opacity_count</th>\n",
       "      <th>integer_label</th>\n",
       "      <th>human_label</th>\n",
       "      <th>file_path</th>\n",
       "    </tr>\n",
       "  </thead>\n",
       "  <tbody>\n",
       "    <tr>\n",
       "      <th>0</th>\n",
       "      <td>000a312787f2</td>\n",
       "      <td>[{'x': 789.28836, 'y': 582.43035, 'width': 102...</td>\n",
       "      <td>opacity 1 789.28836 582.43035 1815.94498 2499....</td>\n",
       "      <td>5776db0cec75</td>\n",
       "      <td>0</td>\n",
       "      <td>1</td>\n",
       "      <td>0</td>\n",
       "      <td>0</td>\n",
       "      <td>2</td>\n",
       "      <td>1</td>\n",
       "      <td>Typical Appearance</td>\n",
       "      <td>C:\\Users\\Admin\\Git\\SIIM\\train\\5776db0cec75\\814...</td>\n",
       "    </tr>\n",
       "    <tr>\n",
       "      <th>1</th>\n",
       "      <td>000c3a3f293f</td>\n",
       "      <td>NaN</td>\n",
       "      <td>none 1 0 0 1 1</td>\n",
       "      <td>ff0879eb20ed</td>\n",
       "      <td>1</td>\n",
       "      <td>0</td>\n",
       "      <td>0</td>\n",
       "      <td>0</td>\n",
       "      <td>0</td>\n",
       "      <td>0</td>\n",
       "      <td>Negative for Pneumonia</td>\n",
       "      <td>C:\\Users\\Admin\\Git\\SIIM\\train\\ff0879eb20ed\\d8a...</td>\n",
       "    </tr>\n",
       "    <tr>\n",
       "      <th>2</th>\n",
       "      <td>0012ff7358bc</td>\n",
       "      <td>[{'x': 677.42216, 'y': 197.97662, 'width': 867...</td>\n",
       "      <td>opacity 1 677.42216 197.97662 1545.21983 1197....</td>\n",
       "      <td>9d514ce429a7</td>\n",
       "      <td>0</td>\n",
       "      <td>1</td>\n",
       "      <td>0</td>\n",
       "      <td>0</td>\n",
       "      <td>2</td>\n",
       "      <td>1</td>\n",
       "      <td>Typical Appearance</td>\n",
       "      <td>C:\\Users\\Admin\\Git\\SIIM\\train\\9d514ce429a7\\228...</td>\n",
       "    </tr>\n",
       "    <tr>\n",
       "      <th>3</th>\n",
       "      <td>001398f4ff4f</td>\n",
       "      <td>[{'x': 2729, 'y': 2181.33331, 'width': 948.000...</td>\n",
       "      <td>opacity 1 2729 2181.33331 3677.00012 2785.33331</td>\n",
       "      <td>28dddc8559b2</td>\n",
       "      <td>0</td>\n",
       "      <td>0</td>\n",
       "      <td>0</td>\n",
       "      <td>1</td>\n",
       "      <td>1</td>\n",
       "      <td>3</td>\n",
       "      <td>Atypical Appearance</td>\n",
       "      <td>C:\\Users\\Admin\\Git\\SIIM\\train\\28dddc8559b2\\4d4...</td>\n",
       "    </tr>\n",
       "    <tr>\n",
       "      <th>4</th>\n",
       "      <td>001bd15d1891</td>\n",
       "      <td>[{'x': 623.23328, 'y': 1050, 'width': 714, 'he...</td>\n",
       "      <td>opacity 1 623.23328 1050 1337.23328 2156 opaci...</td>\n",
       "      <td>dfd9fdd85a3e</td>\n",
       "      <td>0</td>\n",
       "      <td>1</td>\n",
       "      <td>0</td>\n",
       "      <td>0</td>\n",
       "      <td>2</td>\n",
       "      <td>1</td>\n",
       "      <td>Typical Appearance</td>\n",
       "      <td>C:\\Users\\Admin\\Git\\SIIM\\train\\dfd9fdd85a3e\\491...</td>\n",
       "    </tr>\n",
       "  </tbody>\n",
       "</table>\n",
       "</div>"
      ],
      "text/plain": [
       "             id                                              boxes  \\\n",
       "0  000a312787f2  [{'x': 789.28836, 'y': 582.43035, 'width': 102...   \n",
       "1  000c3a3f293f                                                NaN   \n",
       "2  0012ff7358bc  [{'x': 677.42216, 'y': 197.97662, 'width': 867...   \n",
       "3  001398f4ff4f  [{'x': 2729, 'y': 2181.33331, 'width': 948.000...   \n",
       "4  001bd15d1891  [{'x': 623.23328, 'y': 1050, 'width': 714, 'he...   \n",
       "\n",
       "                                               label StudyInstanceUID  \\\n",
       "0  opacity 1 789.28836 582.43035 1815.94498 2499....     5776db0cec75   \n",
       "1                                     none 1 0 0 1 1     ff0879eb20ed   \n",
       "2  opacity 1 677.42216 197.97662 1545.21983 1197....     9d514ce429a7   \n",
       "3    opacity 1 2729 2181.33331 3677.00012 2785.33331     28dddc8559b2   \n",
       "4  opacity 1 623.23328 1050 1337.23328 2156 opaci...     dfd9fdd85a3e   \n",
       "\n",
       "   Negative for Pneumonia  Typical Appearance  Indeterminate Appearance  \\\n",
       "0                       0                   1                         0   \n",
       "1                       1                   0                         0   \n",
       "2                       0                   1                         0   \n",
       "3                       0                   0                         0   \n",
       "4                       0                   1                         0   \n",
       "\n",
       "   Atypical Appearance  opacity_count  integer_label             human_label  \\\n",
       "0                    0              2              1      Typical Appearance   \n",
       "1                    0              0              0  Negative for Pneumonia   \n",
       "2                    0              2              1      Typical Appearance   \n",
       "3                    1              1              3     Atypical Appearance   \n",
       "4                    0              2              1      Typical Appearance   \n",
       "\n",
       "                                           file_path  \n",
       "0  C:\\Users\\Admin\\Git\\SIIM\\train\\5776db0cec75\\814...  \n",
       "1  C:\\Users\\Admin\\Git\\SIIM\\train\\ff0879eb20ed\\d8a...  \n",
       "2  C:\\Users\\Admin\\Git\\SIIM\\train\\9d514ce429a7\\228...  \n",
       "3  C:\\Users\\Admin\\Git\\SIIM\\train\\28dddc8559b2\\4d4...  \n",
       "4  C:\\Users\\Admin\\Git\\SIIM\\train\\dfd9fdd85a3e\\491...  "
      ]
     },
     "execution_count": 17,
     "metadata": {},
     "output_type": "execute_result"
    }
   ],
   "source": [
    "# train directory\n",
    "TRAIN_DIR = \"C:\\\\Users\\\\Admin\\\\Git\\\\SIIM\\\\train\\\\\"\n",
    "# paths\n",
    "paths = list()\n",
    "# create path column\n",
    "for _id in tqdm(train['StudyInstanceUID']):\n",
    "    try:\n",
    "        paths.append(glob.glob(os.path.join(TRAIN_DIR, _id +\"/*/*\"))[0])\n",
    "    except:\n",
    "        paths.append('')\n",
    "train['file_path'] = paths\n",
    "train.head(5)"
   ]
  },
  {
   "cell_type": "markdown",
   "id": "minimal-designer",
   "metadata": {},
   "source": [
    "### Test Case\n",
    "\n",
    "For our test case, we will load the image using dcm, then grab its relevant data information."
   ]
  },
  {
   "cell_type": "code",
   "execution_count": 18,
   "id": "gothic-violence",
   "metadata": {},
   "outputs": [],
   "source": [
    "test_id = '000a312787f2'\n",
    "test_file_path= train.loc[0, 'file_path']\n",
    "test_dcm = pydicom.dcmread(test_file_path)"
   ]
  },
  {
   "cell_type": "markdown",
   "id": "spectacular-sierra",
   "metadata": {},
   "source": [
    "### Header Data"
   ]
  },
  {
   "cell_type": "code",
   "execution_count": 19,
   "id": "sorted-works",
   "metadata": {},
   "outputs": [
    {
     "name": "stdout",
     "output_type": "stream",
     "text": [
      " Specific Character Set = 'ISO_IR 100'\n",
      " Image Type = ['ORIGINAL', 'PRIMARY']\n",
      " SOP Class UID = '71228e4340de'\n",
      " SOP Instance UID = '000a312787f2'\n",
      " Study Date = '526316e376d4'\n",
      " Study Time = '8ccfb6acf07f'\n",
      " Accession Number = 'f6cd7f2019f5'\n",
      " Modality = 'DX'\n",
      " Patient's Name = 'd4268f26ed05'\n",
      " Patient ID = 'dcc3fdf6426a'\n",
      " Patient's Sex = 'M'\n",
      " De-identification Method = 'CTP Default:  based on DICOM PS3.15 AnnexE. Detai...\n",
      " De-identification Method Code Sequence\n",
      "    Code Value = '113100'\n",
      "    Coding Scheme Designator = 'DCM'\n",
      "    Code Meaning = 'Basic Application Confidentiality Profile'\n",
      "   ---------\n",
      "    Code Value = '113105'\n",
      "    Coding Scheme Designator = 'DCM'\n",
      "    Code Meaning = 'Clean Descriptors Option'\n",
      "   ---------\n",
      "    Code Value = '113107'\n",
      "    Coding Scheme Designator = 'DCM'\n",
      "    Code Meaning = 'Retain Longitudinal Temporal Information Modified...\n",
      "   ---------\n",
      "    Code Value = '113108'\n",
      "    Coding Scheme Designator = 'DCM'\n",
      "    Code Meaning = 'Retain Patient Characteristics Option'\n",
      "   ---------\n",
      "    Code Value = '113109'\n",
      "    Coding Scheme Designator = 'DCM'\n",
      "    Code Meaning = 'Retain Device Identity Option'\n",
      "   ---------\n",
      "    Code Value = '11'\n",
      "    Coding Scheme Designator = 'XNAT'\n",
      "    Coding Scheme Version = '1.0'\n",
      "    Code Meaning = 'XNAT DicomEdit 4 Script'\n",
      "   ---------\n",
      " Body Part Examined = 'CHEST'\n",
      " Imager Pixel Spacing = [0.1, 0.1]\n",
      " Study Instance UID = '5776db0cec75'\n",
      " Series Instance UID = '81456c9c5423'\n",
      " Study ID = '55625fb42f3f'\n",
      " Series Number = \"1\"\n",
      " Instance Number = \"1\"\n",
      " Samples per Pixel = 1\n",
      " Photometric Interpretation = 'MONOCHROME2'\n",
      " Rows = 3488\n",
      " Columns = 4256\n",
      " Bits Allocated = 16\n",
      " Bits Stored = 12\n",
      " High Bit = 11\n",
      " Pixel Representation = 0\n",
      "<item not printed -- in the \"don't print\" list>\n"
     ]
    }
   ],
   "source": [
    "def myprint(dataset, indent=0):\n",
    "    \"\"\"Go through all items in the dataset and print them with custom format\n",
    "\n",
    "    Modelled after Dataset._pretty_str()\n",
    "    \"\"\"\n",
    "    dont_print = ['Pixel Data', 'File Meta Information Version']\n",
    "\n",
    "    indent_string = \"   \" * indent\n",
    "    next_indent_string = \"   \" * (indent + 1)\n",
    "\n",
    "    for data_element in dataset:\n",
    "        if data_element.VR == \"SQ\":   # a sequence\n",
    "            print(indent_string, data_element.name)\n",
    "            for sequence_item in data_element.value:\n",
    "                myprint(sequence_item, indent + 1)\n",
    "                print(next_indent_string + \"---------\")\n",
    "        else:\n",
    "            if data_element.name in dont_print:\n",
    "                print(\"\"\"<item not printed -- in the \"don't print\" list>\"\"\")\n",
    "            else:\n",
    "                repr_value = repr(data_element.value)\n",
    "                if len(repr_value) > 50:\n",
    "                    repr_value = repr_value[:50] + \"...\"\n",
    "                print(\"{0:s} {1:s} = {2:s}\".format(indent_string,\n",
    "                                                   data_element.name,\n",
    "                                                   repr_value))\n",
    "\n",
    "myprint(test_dcm)"
   ]
  },
  {
   "cell_type": "markdown",
   "id": "upset-bridge",
   "metadata": {},
   "source": [
    "There is a lot of useful information here that I won't touch on, for example; sex, Photometric Interpretation, Modalit, Imager Pixel Spacing, Samples per Pixel...\n",
    "\n",
    "But for now if we grab the Rows and Columns of the Image.\n",
    "\n",
    "Just to prove rows and columns do indeed equal the image height and width"
   ]
  },
  {
   "cell_type": "code",
   "execution_count": 20,
   "id": "equivalent-orientation",
   "metadata": {},
   "outputs": [
    {
     "name": "stdout",
     "output_type": "stream",
     "text": [
      "Pixel array shape: (3488, 4256)\n",
      "Number of rows and columns: (3488, 4256)\n"
     ]
    }
   ],
   "source": [
    "print('Pixel array shape: {}'.format(test_dcm.pixel_array.shape))\n",
    "print('Number of rows and columns: {}'.format((test_dcm.Rows, test_dcm.Columns)))"
   ]
  },
  {
   "cell_type": "code",
   "execution_count": 21,
   "id": "metropolitan-spring",
   "metadata": {
    "scrolled": false
   },
   "outputs": [
    {
     "name": "stderr",
     "output_type": "stream",
     "text": [
      "100%|████████████████████████████████████████████████████████████| 6334/6334 [02:05<00:00, 50.52it/s]\n"
     ]
    },
    {
     "data": {
      "text/html": [
       "<div>\n",
       "<style scoped>\n",
       "    .dataframe tbody tr th:only-of-type {\n",
       "        vertical-align: middle;\n",
       "    }\n",
       "\n",
       "    .dataframe tbody tr th {\n",
       "        vertical-align: top;\n",
       "    }\n",
       "\n",
       "    .dataframe thead th {\n",
       "        text-align: right;\n",
       "    }\n",
       "</style>\n",
       "<table border=\"1\" class=\"dataframe\">\n",
       "  <thead>\n",
       "    <tr style=\"text-align: right;\">\n",
       "      <th></th>\n",
       "      <th>id</th>\n",
       "      <th>boxes</th>\n",
       "      <th>label</th>\n",
       "      <th>StudyInstanceUID</th>\n",
       "      <th>Negative for Pneumonia</th>\n",
       "      <th>Typical Appearance</th>\n",
       "      <th>Indeterminate Appearance</th>\n",
       "      <th>Atypical Appearance</th>\n",
       "      <th>opacity_count</th>\n",
       "      <th>integer_label</th>\n",
       "      <th>human_label</th>\n",
       "      <th>file_path</th>\n",
       "      <th>image_width</th>\n",
       "      <th>image_height</th>\n",
       "      <th>image_shape</th>\n",
       "    </tr>\n",
       "  </thead>\n",
       "  <tbody>\n",
       "    <tr>\n",
       "      <th>0</th>\n",
       "      <td>000a312787f2</td>\n",
       "      <td>[{'x': 789.28836, 'y': 582.43035, 'width': 102...</td>\n",
       "      <td>opacity 1 789.28836 582.43035 1815.94498 2499....</td>\n",
       "      <td>5776db0cec75</td>\n",
       "      <td>0</td>\n",
       "      <td>1</td>\n",
       "      <td>0</td>\n",
       "      <td>0</td>\n",
       "      <td>2</td>\n",
       "      <td>1</td>\n",
       "      <td>Typical Appearance</td>\n",
       "      <td>C:\\Users\\Admin\\Git\\SIIM\\train\\5776db0cec75\\814...</td>\n",
       "      <td>4256</td>\n",
       "      <td>3488</td>\n",
       "      <td>(3488, 4256)</td>\n",
       "    </tr>\n",
       "    <tr>\n",
       "      <th>1</th>\n",
       "      <td>000c3a3f293f</td>\n",
       "      <td>NaN</td>\n",
       "      <td>none 1 0 0 1 1</td>\n",
       "      <td>ff0879eb20ed</td>\n",
       "      <td>1</td>\n",
       "      <td>0</td>\n",
       "      <td>0</td>\n",
       "      <td>0</td>\n",
       "      <td>0</td>\n",
       "      <td>0</td>\n",
       "      <td>Negative for Pneumonia</td>\n",
       "      <td>C:\\Users\\Admin\\Git\\SIIM\\train\\ff0879eb20ed\\d8a...</td>\n",
       "      <td>4256</td>\n",
       "      <td>3488</td>\n",
       "      <td>(3488, 4256)</td>\n",
       "    </tr>\n",
       "    <tr>\n",
       "      <th>2</th>\n",
       "      <td>0012ff7358bc</td>\n",
       "      <td>[{'x': 677.42216, 'y': 197.97662, 'width': 867...</td>\n",
       "      <td>opacity 1 677.42216 197.97662 1545.21983 1197....</td>\n",
       "      <td>9d514ce429a7</td>\n",
       "      <td>0</td>\n",
       "      <td>1</td>\n",
       "      <td>0</td>\n",
       "      <td>0</td>\n",
       "      <td>2</td>\n",
       "      <td>1</td>\n",
       "      <td>Typical Appearance</td>\n",
       "      <td>C:\\Users\\Admin\\Git\\SIIM\\train\\9d514ce429a7\\228...</td>\n",
       "      <td>4256</td>\n",
       "      <td>3488</td>\n",
       "      <td>(3488, 4256)</td>\n",
       "    </tr>\n",
       "    <tr>\n",
       "      <th>3</th>\n",
       "      <td>001398f4ff4f</td>\n",
       "      <td>[{'x': 2729, 'y': 2181.33331, 'width': 948.000...</td>\n",
       "      <td>opacity 1 2729 2181.33331 3677.00012 2785.33331</td>\n",
       "      <td>28dddc8559b2</td>\n",
       "      <td>0</td>\n",
       "      <td>0</td>\n",
       "      <td>0</td>\n",
       "      <td>1</td>\n",
       "      <td>1</td>\n",
       "      <td>3</td>\n",
       "      <td>Atypical Appearance</td>\n",
       "      <td>C:\\Users\\Admin\\Git\\SIIM\\train\\28dddc8559b2\\4d4...</td>\n",
       "      <td>4256</td>\n",
       "      <td>3488</td>\n",
       "      <td>(3488, 4256)</td>\n",
       "    </tr>\n",
       "    <tr>\n",
       "      <th>4</th>\n",
       "      <td>001bd15d1891</td>\n",
       "      <td>[{'x': 623.23328, 'y': 1050, 'width': 714, 'he...</td>\n",
       "      <td>opacity 1 623.23328 1050 1337.23328 2156 opaci...</td>\n",
       "      <td>dfd9fdd85a3e</td>\n",
       "      <td>0</td>\n",
       "      <td>1</td>\n",
       "      <td>0</td>\n",
       "      <td>0</td>\n",
       "      <td>2</td>\n",
       "      <td>1</td>\n",
       "      <td>Typical Appearance</td>\n",
       "      <td>C:\\Users\\Admin\\Git\\SIIM\\train\\dfd9fdd85a3e\\491...</td>\n",
       "      <td>4256</td>\n",
       "      <td>3488</td>\n",
       "      <td>(3488, 4256)</td>\n",
       "    </tr>\n",
       "  </tbody>\n",
       "</table>\n",
       "</div>"
      ],
      "text/plain": [
       "             id                                              boxes  \\\n",
       "0  000a312787f2  [{'x': 789.28836, 'y': 582.43035, 'width': 102...   \n",
       "1  000c3a3f293f                                                NaN   \n",
       "2  0012ff7358bc  [{'x': 677.42216, 'y': 197.97662, 'width': 867...   \n",
       "3  001398f4ff4f  [{'x': 2729, 'y': 2181.33331, 'width': 948.000...   \n",
       "4  001bd15d1891  [{'x': 623.23328, 'y': 1050, 'width': 714, 'he...   \n",
       "\n",
       "                                               label StudyInstanceUID  \\\n",
       "0  opacity 1 789.28836 582.43035 1815.94498 2499....     5776db0cec75   \n",
       "1                                     none 1 0 0 1 1     ff0879eb20ed   \n",
       "2  opacity 1 677.42216 197.97662 1545.21983 1197....     9d514ce429a7   \n",
       "3    opacity 1 2729 2181.33331 3677.00012 2785.33331     28dddc8559b2   \n",
       "4  opacity 1 623.23328 1050 1337.23328 2156 opaci...     dfd9fdd85a3e   \n",
       "\n",
       "   Negative for Pneumonia  Typical Appearance  Indeterminate Appearance  \\\n",
       "0                       0                   1                         0   \n",
       "1                       1                   0                         0   \n",
       "2                       0                   1                         0   \n",
       "3                       0                   0                         0   \n",
       "4                       0                   1                         0   \n",
       "\n",
       "   Atypical Appearance  opacity_count  integer_label             human_label  \\\n",
       "0                    0              2              1      Typical Appearance   \n",
       "1                    0              0              0  Negative for Pneumonia   \n",
       "2                    0              2              1      Typical Appearance   \n",
       "3                    1              1              3     Atypical Appearance   \n",
       "4                    0              2              1      Typical Appearance   \n",
       "\n",
       "                                           file_path  image_width  \\\n",
       "0  C:\\Users\\Admin\\Git\\SIIM\\train\\5776db0cec75\\814...         4256   \n",
       "1  C:\\Users\\Admin\\Git\\SIIM\\train\\ff0879eb20ed\\d8a...         4256   \n",
       "2  C:\\Users\\Admin\\Git\\SIIM\\train\\9d514ce429a7\\228...         4256   \n",
       "3  C:\\Users\\Admin\\Git\\SIIM\\train\\28dddc8559b2\\4d4...         4256   \n",
       "4  C:\\Users\\Admin\\Git\\SIIM\\train\\dfd9fdd85a3e\\491...         4256   \n",
       "\n",
       "   image_height   image_shape  \n",
       "0          3488  (3488, 4256)  \n",
       "1          3488  (3488, 4256)  \n",
       "2          3488  (3488, 4256)  \n",
       "3          3488  (3488, 4256)  \n",
       "4          3488  (3488, 4256)  "
      ]
     },
     "execution_count": 21,
     "metadata": {},
     "output_type": "execute_result"
    }
   ],
   "source": [
    "# grab image dimensions\n",
    "height_list = list()\n",
    "width_list = list()\n",
    "shape_list = list()\n",
    "for file_path in tqdm(train['StudyInstanceUID']):\n",
    "    try:\n",
    "        dcm = pydicom.dcmread(test_file_path)\n",
    "        height_list.append(dcm.Rows)\n",
    "        width_list.append(dcm.Columns)\n",
    "        shape_list.append(dcm.pixel_array.shape)\n",
    "    except:\n",
    "        height_list.append(None)\n",
    "        width_list.append(None)\n",
    "        shape_list.append(None)\n",
    "train['image_width'] = width_list\n",
    "train['image_height'] = height_list\n",
    "train['image_shape'] = shape_list\n",
    "train.head(5)"
   ]
  },
  {
   "cell_type": "markdown",
   "id": "preliminary-dover",
   "metadata": {},
   "source": [
    "## Bouding Boxes\n",
    "\n",
    "The boxes column currently is a string, so first we are going to apply ast to the string, to retrieve list. Then we can explode the boxes column, so we have one box per row."
   ]
  },
  {
   "cell_type": "code",
   "execution_count": 22,
   "id": "decimal-sheep",
   "metadata": {},
   "outputs": [],
   "source": [
    "def apply_ast(string):\n",
    "    try:\n",
    "        return(ast.literal_eval(string))\n",
    "    except:\n",
    "        return(None)"
   ]
  },
  {
   "cell_type": "code",
   "execution_count": 23,
   "id": "marked-messaging",
   "metadata": {},
   "outputs": [],
   "source": [
    "train['boxes'] = train.boxes.apply(apply_ast)"
   ]
  },
  {
   "cell_type": "code",
   "execution_count": 24,
   "id": "surprised-given",
   "metadata": {
    "scrolled": false
   },
   "outputs": [
    {
     "data": {
      "text/html": [
       "<div>\n",
       "<style scoped>\n",
       "    .dataframe tbody tr th:only-of-type {\n",
       "        vertical-align: middle;\n",
       "    }\n",
       "\n",
       "    .dataframe tbody tr th {\n",
       "        vertical-align: top;\n",
       "    }\n",
       "\n",
       "    .dataframe thead th {\n",
       "        text-align: right;\n",
       "    }\n",
       "</style>\n",
       "<table border=\"1\" class=\"dataframe\">\n",
       "  <thead>\n",
       "    <tr style=\"text-align: right;\">\n",
       "      <th></th>\n",
       "      <th>id</th>\n",
       "      <th>boxes</th>\n",
       "      <th>label</th>\n",
       "      <th>StudyInstanceUID</th>\n",
       "      <th>Negative for Pneumonia</th>\n",
       "      <th>Typical Appearance</th>\n",
       "      <th>Indeterminate Appearance</th>\n",
       "      <th>Atypical Appearance</th>\n",
       "      <th>opacity_count</th>\n",
       "      <th>integer_label</th>\n",
       "      <th>human_label</th>\n",
       "      <th>file_path</th>\n",
       "      <th>image_width</th>\n",
       "      <th>image_height</th>\n",
       "      <th>image_shape</th>\n",
       "    </tr>\n",
       "  </thead>\n",
       "  <tbody>\n",
       "    <tr>\n",
       "      <th>0</th>\n",
       "      <td>000a312787f2</td>\n",
       "      <td>[{'x': 789.28836, 'y': 582.43035, 'width': 102...</td>\n",
       "      <td>opacity 1 789.28836 582.43035 1815.94498 2499....</td>\n",
       "      <td>5776db0cec75</td>\n",
       "      <td>0</td>\n",
       "      <td>1</td>\n",
       "      <td>0</td>\n",
       "      <td>0</td>\n",
       "      <td>2</td>\n",
       "      <td>1</td>\n",
       "      <td>Typical Appearance</td>\n",
       "      <td>C:\\Users\\Admin\\Git\\SIIM\\train\\5776db0cec75\\814...</td>\n",
       "      <td>4256</td>\n",
       "      <td>3488</td>\n",
       "      <td>(3488, 4256)</td>\n",
       "    </tr>\n",
       "    <tr>\n",
       "      <th>1</th>\n",
       "      <td>000c3a3f293f</td>\n",
       "      <td>None</td>\n",
       "      <td>none 1 0 0 1 1</td>\n",
       "      <td>ff0879eb20ed</td>\n",
       "      <td>1</td>\n",
       "      <td>0</td>\n",
       "      <td>0</td>\n",
       "      <td>0</td>\n",
       "      <td>0</td>\n",
       "      <td>0</td>\n",
       "      <td>Negative for Pneumonia</td>\n",
       "      <td>C:\\Users\\Admin\\Git\\SIIM\\train\\ff0879eb20ed\\d8a...</td>\n",
       "      <td>4256</td>\n",
       "      <td>3488</td>\n",
       "      <td>(3488, 4256)</td>\n",
       "    </tr>\n",
       "    <tr>\n",
       "      <th>2</th>\n",
       "      <td>0012ff7358bc</td>\n",
       "      <td>[{'x': 677.42216, 'y': 197.97662, 'width': 867...</td>\n",
       "      <td>opacity 1 677.42216 197.97662 1545.21983 1197....</td>\n",
       "      <td>9d514ce429a7</td>\n",
       "      <td>0</td>\n",
       "      <td>1</td>\n",
       "      <td>0</td>\n",
       "      <td>0</td>\n",
       "      <td>2</td>\n",
       "      <td>1</td>\n",
       "      <td>Typical Appearance</td>\n",
       "      <td>C:\\Users\\Admin\\Git\\SIIM\\train\\9d514ce429a7\\228...</td>\n",
       "      <td>4256</td>\n",
       "      <td>3488</td>\n",
       "      <td>(3488, 4256)</td>\n",
       "    </tr>\n",
       "    <tr>\n",
       "      <th>3</th>\n",
       "      <td>001398f4ff4f</td>\n",
       "      <td>[{'x': 2729, 'y': 2181.33331, 'width': 948.000...</td>\n",
       "      <td>opacity 1 2729 2181.33331 3677.00012 2785.33331</td>\n",
       "      <td>28dddc8559b2</td>\n",
       "      <td>0</td>\n",
       "      <td>0</td>\n",
       "      <td>0</td>\n",
       "      <td>1</td>\n",
       "      <td>1</td>\n",
       "      <td>3</td>\n",
       "      <td>Atypical Appearance</td>\n",
       "      <td>C:\\Users\\Admin\\Git\\SIIM\\train\\28dddc8559b2\\4d4...</td>\n",
       "      <td>4256</td>\n",
       "      <td>3488</td>\n",
       "      <td>(3488, 4256)</td>\n",
       "    </tr>\n",
       "    <tr>\n",
       "      <th>4</th>\n",
       "      <td>001bd15d1891</td>\n",
       "      <td>[{'x': 623.23328, 'y': 1050, 'width': 714, 'he...</td>\n",
       "      <td>opacity 1 623.23328 1050 1337.23328 2156 opaci...</td>\n",
       "      <td>dfd9fdd85a3e</td>\n",
       "      <td>0</td>\n",
       "      <td>1</td>\n",
       "      <td>0</td>\n",
       "      <td>0</td>\n",
       "      <td>2</td>\n",
       "      <td>1</td>\n",
       "      <td>Typical Appearance</td>\n",
       "      <td>C:\\Users\\Admin\\Git\\SIIM\\train\\dfd9fdd85a3e\\491...</td>\n",
       "      <td>4256</td>\n",
       "      <td>3488</td>\n",
       "      <td>(3488, 4256)</td>\n",
       "    </tr>\n",
       "  </tbody>\n",
       "</table>\n",
       "</div>"
      ],
      "text/plain": [
       "             id                                              boxes  \\\n",
       "0  000a312787f2  [{'x': 789.28836, 'y': 582.43035, 'width': 102...   \n",
       "1  000c3a3f293f                                               None   \n",
       "2  0012ff7358bc  [{'x': 677.42216, 'y': 197.97662, 'width': 867...   \n",
       "3  001398f4ff4f  [{'x': 2729, 'y': 2181.33331, 'width': 948.000...   \n",
       "4  001bd15d1891  [{'x': 623.23328, 'y': 1050, 'width': 714, 'he...   \n",
       "\n",
       "                                               label StudyInstanceUID  \\\n",
       "0  opacity 1 789.28836 582.43035 1815.94498 2499....     5776db0cec75   \n",
       "1                                     none 1 0 0 1 1     ff0879eb20ed   \n",
       "2  opacity 1 677.42216 197.97662 1545.21983 1197....     9d514ce429a7   \n",
       "3    opacity 1 2729 2181.33331 3677.00012 2785.33331     28dddc8559b2   \n",
       "4  opacity 1 623.23328 1050 1337.23328 2156 opaci...     dfd9fdd85a3e   \n",
       "\n",
       "   Negative for Pneumonia  Typical Appearance  Indeterminate Appearance  \\\n",
       "0                       0                   1                         0   \n",
       "1                       1                   0                         0   \n",
       "2                       0                   1                         0   \n",
       "3                       0                   0                         0   \n",
       "4                       0                   1                         0   \n",
       "\n",
       "   Atypical Appearance  opacity_count  integer_label             human_label  \\\n",
       "0                    0              2              1      Typical Appearance   \n",
       "1                    0              0              0  Negative for Pneumonia   \n",
       "2                    0              2              1      Typical Appearance   \n",
       "3                    1              1              3     Atypical Appearance   \n",
       "4                    0              2              1      Typical Appearance   \n",
       "\n",
       "                                           file_path  image_width  \\\n",
       "0  C:\\Users\\Admin\\Git\\SIIM\\train\\5776db0cec75\\814...         4256   \n",
       "1  C:\\Users\\Admin\\Git\\SIIM\\train\\ff0879eb20ed\\d8a...         4256   \n",
       "2  C:\\Users\\Admin\\Git\\SIIM\\train\\9d514ce429a7\\228...         4256   \n",
       "3  C:\\Users\\Admin\\Git\\SIIM\\train\\28dddc8559b2\\4d4...         4256   \n",
       "4  C:\\Users\\Admin\\Git\\SIIM\\train\\dfd9fdd85a3e\\491...         4256   \n",
       "\n",
       "   image_height   image_shape  \n",
       "0          3488  (3488, 4256)  \n",
       "1          3488  (3488, 4256)  \n",
       "2          3488  (3488, 4256)  \n",
       "3          3488  (3488, 4256)  \n",
       "4          3488  (3488, 4256)  "
      ]
     },
     "execution_count": 24,
     "metadata": {},
     "output_type": "execute_result"
    }
   ],
   "source": [
    "train.head(5)"
   ]
  },
  {
   "cell_type": "markdown",
   "id": "current-sally",
   "metadata": {},
   "source": [
    "## Data Exploration and Feature Engineering\n",
    "\n",
    "We need to deal with Null types, duplicates and background classes..."
   ]
  },
  {
   "cell_type": "code",
   "execution_count": 25,
   "id": "analyzed-fountain",
   "metadata": {
    "scrolled": true
   },
   "outputs": [
    {
     "data": {
      "text/plain": [
       "id                             0\n",
       "boxes                       2040\n",
       "label                          0\n",
       "StudyInstanceUID               0\n",
       "Negative for Pneumonia         0\n",
       "Typical Appearance             0\n",
       "Indeterminate Appearance       0\n",
       "Atypical Appearance            0\n",
       "opacity_count                  0\n",
       "integer_label                  0\n",
       "human_label                    0\n",
       "file_path                      0\n",
       "image_width                    0\n",
       "image_height                   0\n",
       "image_shape                    0\n",
       "dtype: int64"
      ]
     },
     "execution_count": 25,
     "metadata": {},
     "output_type": "execute_result"
    }
   ],
   "source": [
    "# check for Null values\n",
    "train.isna().sum()"
   ]
  },
  {
   "cell_type": "code",
   "execution_count": 26,
   "id": "regulated-nickname",
   "metadata": {
    "scrolled": true
   },
   "outputs": [
    {
     "data": {
      "text/html": [
       "<div>\n",
       "<style scoped>\n",
       "    .dataframe tbody tr th:only-of-type {\n",
       "        vertical-align: middle;\n",
       "    }\n",
       "\n",
       "    .dataframe tbody tr th {\n",
       "        vertical-align: top;\n",
       "    }\n",
       "\n",
       "    .dataframe thead th {\n",
       "        text-align: right;\n",
       "    }\n",
       "</style>\n",
       "<table border=\"1\" class=\"dataframe\">\n",
       "  <thead>\n",
       "    <tr style=\"text-align: right;\">\n",
       "      <th></th>\n",
       "      <th>id</th>\n",
       "      <th>boxes</th>\n",
       "      <th>label</th>\n",
       "      <th>StudyInstanceUID</th>\n",
       "      <th>Negative for Pneumonia</th>\n",
       "      <th>Typical Appearance</th>\n",
       "      <th>Indeterminate Appearance</th>\n",
       "      <th>Atypical Appearance</th>\n",
       "      <th>opacity_count</th>\n",
       "      <th>integer_label</th>\n",
       "      <th>human_label</th>\n",
       "      <th>file_path</th>\n",
       "      <th>image_width</th>\n",
       "      <th>image_height</th>\n",
       "      <th>image_shape</th>\n",
       "    </tr>\n",
       "  </thead>\n",
       "  <tbody>\n",
       "  </tbody>\n",
       "</table>\n",
       "</div>"
      ],
      "text/plain": [
       "Empty DataFrame\n",
       "Columns: [id, boxes, label, StudyInstanceUID, Negative for Pneumonia, Typical Appearance, Indeterminate Appearance, Atypical Appearance, opacity_count, integer_label, human_label, file_path, image_width, image_height, image_shape]\n",
       "Index: []"
      ]
     },
     "execution_count": 26,
     "metadata": {},
     "output_type": "execute_result"
    }
   ],
   "source": [
    "train[train.id.duplicated()]"
   ]
  },
  {
   "cell_type": "markdown",
   "id": "unique-storage",
   "metadata": {},
   "source": [
    "## Height and Width\n",
    "\n",
    "I assumed there would be different values for images, but it appears not..."
   ]
  },
  {
   "cell_type": "code",
   "execution_count": 27,
   "id": "patent-gospel",
   "metadata": {
    "scrolled": true
   },
   "outputs": [
    {
     "name": "stdout",
     "output_type": "stream",
     "text": [
      "4256    6334\n",
      "Name: image_width, dtype: int64\n",
      "3488    6334\n",
      "Name: image_height, dtype: int64\n"
     ]
    }
   ],
   "source": [
    "print(train.image_width.value_counts())\n",
    "print(train.image_height.value_counts())"
   ]
  },
  {
   "cell_type": "markdown",
   "id": "weird-approach",
   "metadata": {},
   "source": [
    "## How to deal with Negative for Pneumonia\n",
    "\n",
    "An empty box should not be filled."
   ]
  },
  {
   "cell_type": "markdown",
   "id": "ranging-andorra",
   "metadata": {},
   "source": [
    "# Balancing Classes"
   ]
  },
  {
   "cell_type": "code",
   "execution_count": 28,
   "id": "overhead-settlement",
   "metadata": {},
   "outputs": [
    {
     "data": {
      "image/png": "[encoded data removed]",
      "text/plain": [
       "<Figure size 432x288 with 1 Axes>"
      ]
     },
     "metadata": {
      "needs_background": "light"
     },
     "output_type": "display_data"
    }
   ],
   "source": [
    "train.integer_label.value_counts().plot(kind='bar')\n",
    "plt.show()"
   ]
  },
  {
   "cell_type": "markdown",
   "id": "alien-expansion",
   "metadata": {},
   "source": [
    "## Stratified id_s\n",
    "\n",
    "Becuase we are sending the dataset, unique id_s. In order to balance the classes properly we must k fold on the original dataset not the exploded one."
   ]
  },
  {
   "cell_type": "code",
   "execution_count": 29,
   "id": "isolated-prize",
   "metadata": {},
   "outputs": [],
   "source": [
    "strat = train.copy()"
   ]
  },
  {
   "cell_type": "code",
   "execution_count": 30,
   "id": "theoretical-stevens",
   "metadata": {},
   "outputs": [],
   "source": [
    "strat = strat[strat.file_path!=''].reset_index(drop=True)"
   ]
  },
  {
   "cell_type": "code",
   "execution_count": 31,
   "id": "capital-tuition",
   "metadata": {},
   "outputs": [],
   "source": [
    "# stratified by integer_label\n",
    "from sklearn.model_selection import StratifiedKFold\n",
    "skf = StratifiedKFold(n_splits=5, shuffle=True, random_state=69)"
   ]
  },
  {
   "cell_type": "code",
   "execution_count": 32,
   "id": "designed-official",
   "metadata": {},
   "outputs": [],
   "source": [
    "for n, (train_index, val_index) in enumerate(skf.split(X=strat.index, y=strat.integer_label)):\n",
    "    strat.loc[strat.iloc[val_index].index, 'fold'] = int(n)\n",
    "strat['fold'] = strat['fold'].astype(int)"
   ]
  },
  {
   "cell_type": "code",
   "execution_count": 33,
   "id": "square-sleep",
   "metadata": {
    "scrolled": false
   },
   "outputs": [
    {
     "name": "stdout",
     "output_type": "stream",
     "text": [
      "fold  integer_label\n",
      "0     0                333\n",
      "      1                580\n",
      "      2                212\n",
      "      3                 94\n",
      "1     0                334\n",
      "      1                579\n",
      "      2                212\n",
      "      3                 94\n",
      "2     0                334\n",
      "      1                579\n",
      "      2                212\n",
      "      3                 93\n",
      "3     0                334\n",
      "      1                579\n",
      "      2                212\n",
      "      3                 93\n",
      "4     0                334\n",
      "      1                579\n",
      "      2                212\n",
      "      3                 93\n",
      "dtype: int64\n"
     ]
    }
   ],
   "source": [
    "print(strat.groupby(['fold', strat.integer_label]).size())"
   ]
  },
  {
   "cell_type": "code",
   "execution_count": 34,
   "id": "transparent-costa",
   "metadata": {},
   "outputs": [],
   "source": [
    "val_fold = 4\n",
    "train_ids = strat[strat.fold!=4].id.values\n",
    "val_ids = strat[strat.fold==4].id.values"
   ]
  },
  {
   "cell_type": "code",
   "execution_count": 35,
   "id": "trying-miracle",
   "metadata": {},
   "outputs": [
    {
     "data": {
      "text/plain": [
       "4874"
      ]
     },
     "execution_count": 35,
     "metadata": {},
     "output_type": "execute_result"
    }
   ],
   "source": [
    "len(train_ids)"
   ]
  },
  {
   "cell_type": "code",
   "execution_count": 36,
   "id": "dimensional-graham",
   "metadata": {
    "scrolled": true
   },
   "outputs": [
    {
     "data": {
      "text/plain": [
       "1218"
      ]
     },
     "execution_count": 36,
     "metadata": {},
     "output_type": "execute_result"
    }
   ],
   "source": [
    "len(val_ids)"
   ]
  },
  {
   "cell_type": "code",
   "execution_count": 37,
   "id": "compatible-saturday",
   "metadata": {},
   "outputs": [
    {
     "data": {
      "text/plain": [
       "id                             0\n",
       "boxes                       1973\n",
       "label                          0\n",
       "StudyInstanceUID               0\n",
       "Negative for Pneumonia         0\n",
       "Typical Appearance             0\n",
       "Indeterminate Appearance       0\n",
       "Atypical Appearance            0\n",
       "opacity_count                  0\n",
       "integer_label                  0\n",
       "human_label                    0\n",
       "file_path                      0\n",
       "image_width                    0\n",
       "image_height                   0\n",
       "image_shape                    0\n",
       "fold                           0\n",
       "dtype: int64"
      ]
     },
     "execution_count": 37,
     "metadata": {},
     "output_type": "execute_result"
    }
   ],
   "source": [
    "strat.isnull().sum()"
   ]
  },
  {
   "cell_type": "code",
   "execution_count": 38,
   "id": "broke-belize",
   "metadata": {},
   "outputs": [],
   "source": [
    "strat.to_csv('../input/id_s.csv', index=False)"
   ]
  },
  {
   "cell_type": "code",
   "execution_count": 39,
   "id": "advanced-fraction",
   "metadata": {},
   "outputs": [
    {
     "data": {
      "text/html": [
       "<div>\n",
       "<style scoped>\n",
       "    .dataframe tbody tr th:only-of-type {\n",
       "        vertical-align: middle;\n",
       "    }\n",
       "\n",
       "    .dataframe tbody tr th {\n",
       "        vertical-align: top;\n",
       "    }\n",
       "\n",
       "    .dataframe thead th {\n",
       "        text-align: right;\n",
       "    }\n",
       "</style>\n",
       "<table border=\"1\" class=\"dataframe\">\n",
       "  <thead>\n",
       "    <tr style=\"text-align: right;\">\n",
       "      <th></th>\n",
       "      <th>id</th>\n",
       "      <th>boxes</th>\n",
       "      <th>label</th>\n",
       "      <th>StudyInstanceUID</th>\n",
       "      <th>Negative for Pneumonia</th>\n",
       "      <th>Typical Appearance</th>\n",
       "      <th>Indeterminate Appearance</th>\n",
       "      <th>Atypical Appearance</th>\n",
       "      <th>opacity_count</th>\n",
       "      <th>integer_label</th>\n",
       "      <th>human_label</th>\n",
       "      <th>file_path</th>\n",
       "      <th>image_width</th>\n",
       "      <th>image_height</th>\n",
       "      <th>image_shape</th>\n",
       "      <th>fold</th>\n",
       "    </tr>\n",
       "  </thead>\n",
       "  <tbody>\n",
       "  </tbody>\n",
       "</table>\n",
       "</div>"
      ],
      "text/plain": [
       "Empty DataFrame\n",
       "Columns: [id, boxes, label, StudyInstanceUID, Negative for Pneumonia, Typical Appearance, Indeterminate Appearance, Atypical Appearance, opacity_count, integer_label, human_label, file_path, image_width, image_height, image_shape, fold]\n",
       "Index: []"
      ]
     },
     "execution_count": 39,
     "metadata": {},
     "output_type": "execute_result"
    }
   ],
   "source": [
    "strat[strat.file_path=='']"
   ]
  }
 ],
 "metadata": {
  "kernelspec": {
   "display_name": "Python [conda env:cell]",
   "language": "python",
   "name": "conda-env-cell-py"
  },
  "language_info": {
   "codemirror_mode": {
    "name": "ipython",
    "version": 3
   },
   "file_extension": ".py",
   "mimetype": "text/x-python",
   "name": "python",
   "nbconvert_exporter": "python",
   "pygments_lexer": "ipython3",
   "version": "3.9.2"
  }
 },
 "nbformat": 4,
 "nbformat_minor": 5
}
