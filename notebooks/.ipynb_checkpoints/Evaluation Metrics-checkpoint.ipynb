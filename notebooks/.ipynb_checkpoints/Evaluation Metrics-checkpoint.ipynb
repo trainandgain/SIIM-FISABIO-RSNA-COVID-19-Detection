{
 "cells": [
  {
   "cell_type": "markdown",
   "id": "c744d771",
   "metadata": {},
   "source": [
    "# Evaluation Metric"
   ]
  },
  {
   "cell_type": "markdown",
   "id": "8c035833",
   "metadata": {},
   "source": [
    "# Flattening, Non Mulitlabel"
   ]
  },
  {
   "cell_type": "code",
   "execution_count": 303,
   "id": "6bf73677",
   "metadata": {
    "scrolled": true
   },
   "outputs": [],
   "source": [
    "import torch\n",
    "from sklearn import metrics\n",
    "import matplotlib.pyplot as plt\n",
    "import seaborn as sns\n",
    "import numpy as np\n",
    "import pandas as pd"
   ]
  },
  {
   "cell_type": "code",
   "execution_count": 223,
   "id": "224cf261",
   "metadata": {},
   "outputs": [],
   "source": [
    "N = 4 # batch size\n",
    "y_true = torch.randint(0, 2, (N, 4)) # predicted from model\n",
    "y_pred = torch.rand(N, 4) # true label"
   ]
  },
  {
   "cell_type": "code",
   "execution_count": 96,
   "id": "c88a42d6",
   "metadata": {},
   "outputs": [
    {
     "name": "stdout",
     "output_type": "stream",
     "text": [
      "y predicts: tensor([[0.7827, 0.6027, 0.6571, 0.9656],\n",
      "        [0.4912, 0.0817, 0.2605, 0.4731],\n",
      "        [0.8793, 0.7904, 0.1821, 0.1916],\n",
      "        [0.0653, 0.9161, 0.3741, 0.4971]])\n",
      "##################################################\n",
      "y trues tensor([[0.5660, 0.0572, 0.5130, 0.0676],\n",
      "        [0.0720, 0.1902, 0.9987, 0.2523],\n",
      "        [0.5444, 0.5440, 0.4589, 0.4670],\n",
      "        [0.1648, 0.2135, 0.4343, 0.1750]])\n"
     ]
    }
   ],
   "source": [
    "print('y predicts: '+ str(y_pred))\n",
    "print('#'*50)\n",
    "print('y trues '+ str(y_true))"
   ]
  },
  {
   "cell_type": "code",
   "execution_count": 226,
   "id": "01821213",
   "metadata": {},
   "outputs": [],
   "source": [
    "y_preds = []\n",
    "y_trues = []\n",
    "for i in range(5):\n",
    "    y_true = torch.randint(0, 2, (N, 4)) # predicted from model\n",
    "    y_pred = torch.rand(N, 4) # true label\n",
    "    \n",
    "    y_preds += [y_pred.flatten()]\n",
    "    y_trues += [y_true.flatten()]"
   ]
  },
  {
   "cell_type": "code",
   "execution_count": 227,
   "id": "33814351",
   "metadata": {},
   "outputs": [
    {
     "data": {
      "text/plain": [
       "5"
      ]
     },
     "execution_count": 227,
     "metadata": {},
     "output_type": "execute_result"
    }
   ],
   "source": [
    "len(y_preds)"
   ]
  },
  {
   "cell_type": "code",
   "execution_count": 228,
   "id": "c583c47c",
   "metadata": {
    "scrolled": true
   },
   "outputs": [
    {
     "data": {
      "text/plain": [
       "torch.Size([80])"
      ]
     },
     "execution_count": 228,
     "metadata": {},
     "output_type": "execute_result"
    }
   ],
   "source": [
    "pred = torch.stack(y_preds).flatten()\n",
    "pred.shape"
   ]
  },
  {
   "cell_type": "code",
   "execution_count": 229,
   "id": "31d0aa08",
   "metadata": {},
   "outputs": [
    {
     "data": {
      "text/plain": [
       "torch.Size([80])"
      ]
     },
     "execution_count": 229,
     "metadata": {},
     "output_type": "execute_result"
    }
   ],
   "source": [
    "true = torch.stack(y_trues).flatten()\n",
    "true.shape"
   ]
  },
  {
   "cell_type": "markdown",
   "id": "1ca8d806",
   "metadata": {},
   "source": [
    "The output of the stack should be $4*4*5=80$\n",
    "\n",
    "Therefore we can start to get the evaluations."
   ]
  },
  {
   "cell_type": "markdown",
   "id": "a87bc303",
   "metadata": {},
   "source": [
    "## True and False, Positives and Negatives\n",
    "\n",
    "To get a proper evaluation metrics we must first define a threshold.\n",
    "\n",
    "(Also our trues are random at the moment, I will convert them to 1's and 0's)"
   ]
  },
  {
   "cell_type": "code",
   "execution_count": 230,
   "id": "5a054c0c",
   "metadata": {},
   "outputs": [],
   "source": [
    "threshold = 0.5"
   ]
  },
  {
   "cell_type": "code",
   "execution_count": 231,
   "id": "c6a58856",
   "metadata": {},
   "outputs": [],
   "source": [
    "pred = (pred > threshold).int()"
   ]
  },
  {
   "cell_type": "code",
   "execution_count": 232,
   "id": "38bed58e",
   "metadata": {},
   "outputs": [
    {
     "data": {
      "text/plain": [
       "tensor([1, 0, 1, 1, 1, 0, 1, 1, 0, 0, 0, 1, 1, 1, 0, 1, 0, 1, 0, 0, 1, 0, 1, 1,\n",
       "        1, 0, 0, 1, 1, 1, 1, 0, 0, 0, 1, 1, 1, 1, 1, 1, 1, 0, 0, 1, 0, 1, 0, 1,\n",
       "        1, 0, 0, 1, 1, 1, 0, 1, 0, 0, 1, 1, 0, 1, 0, 1, 0, 1, 1, 0, 0, 0, 0, 1,\n",
       "        0, 1, 1, 1, 1, 0, 1, 0], dtype=torch.int32)"
      ]
     },
     "execution_count": 232,
     "metadata": {},
     "output_type": "execute_result"
    }
   ],
   "source": [
    "pred"
   ]
  },
  {
   "cell_type": "code",
   "execution_count": 233,
   "id": "9b0ba918",
   "metadata": {},
   "outputs": [],
   "source": [
    "tp = (true * pred).sum(dim=0).to(torch.float32)\n",
    "tn = ((1 - true) * (1 - pred)).sum(dim=0).to(torch.float32)\n",
    "fp = ((1 - true) * pred).sum(dim=0).to(torch.float32)\n",
    "fn = (true * (1 - pred)).sum(dim=0).to(torch.float32)"
   ]
  },
  {
   "cell_type": "code",
   "execution_count": 234,
   "id": "6204cd1e",
   "metadata": {},
   "outputs": [
    {
     "data": {
      "text/plain": [
       "(tensor(25.), tensor(17.), tensor(21.), tensor(17.))"
      ]
     },
     "execution_count": 234,
     "metadata": {},
     "output_type": "execute_result"
    }
   ],
   "source": [
    "tp, tn, fp, fn"
   ]
  },
  {
   "cell_type": "code",
   "execution_count": 235,
   "id": "2a2d4653",
   "metadata": {
    "scrolled": false
   },
   "outputs": [
    {
     "data": {
      "text/plain": [
       "0.5681818181818181"
      ]
     },
     "execution_count": 235,
     "metadata": {},
     "output_type": "execute_result"
    }
   ],
   "source": [
    "metrics.f1_score(true.numpy(), pred.numpy())"
   ]
  },
  {
   "cell_type": "markdown",
   "id": "c1e46d84",
   "metadata": {},
   "source": [
    "# Multi-Label"
   ]
  },
  {
   "cell_type": "code",
   "execution_count": 307,
   "id": "ac56cb75",
   "metadata": {},
   "outputs": [],
   "source": [
    "y_preds = []\n",
    "y_trues = []\n",
    "\n",
    "classes = torch.randint(0, 2, (N, 4)) # predicted from model\n",
    "preds = torch.rand(N, 4) # true label"
   ]
  },
  {
   "cell_type": "code",
   "execution_count": 308,
   "id": "a416548f",
   "metadata": {},
   "outputs": [
    {
     "data": {
      "text/plain": [
       "dict_values(['Negative for Pneumonia', 'Typical Appearance', 'Indeterminate Appearance', 'Atypical Appearance'])"
      ]
     },
     "execution_count": 308,
     "metadata": {},
     "output_type": "execute_result"
    }
   ],
   "source": [
    "label2class = {0:'Negative for Pneumonia',\n",
    "               1:'Typical Appearance',\n",
    "               2:'Indeterminate Appearance',\n",
    "               3:'Atypical Appearance'}\n",
    "label2class.values()"
   ]
  },
  {
   "cell_type": "code",
   "execution_count": 309,
   "id": "df221a52",
   "metadata": {},
   "outputs": [
    {
     "data": {
      "text/plain": [
       "Text(0.5, 15.0, 'Predicted label')"
      ]
     },
     "execution_count": 309,
     "metadata": {},
     "output_type": "execute_result"
    },
    {
     "data": {
      "image/png": "[encoded data removed]",
      "text/plain": [
       "<Figure size 432x288 with 2 Axes>"
      ]
     },
     "metadata": {
      "needs_background": "light"
     },
     "output_type": "display_data"
    }
   ],
   "source": [
    "nb_classes = 4\n",
    "confusion_matrix = np.zeros((nb_classes, nb_classes))\n",
    "for t, p in zip(classes.view(-1), preds.view(-1)):\n",
    "        confusion_matrix[t.long(), p.long()] += 1\n",
    "        \n",
    "class_names = list(label2class.values())\n",
    "df_cm = pd.DataFrame(confusion_matrix, index=class_names, columns=class_names).astype(int)\n",
    "heatmap = sns.heatmap(df_cm, annot=True, fmt=\"d\")\n",
    "\n",
    "heatmap.yaxis.set_ticklabels(heatmap.yaxis.get_ticklabels(), rotation=0, ha='right',fontsize=15)\n",
    "heatmap.xaxis.set_ticklabels(heatmap.xaxis.get_ticklabels(), rotation=45, ha='right',fontsize=15)\n",
    "plt.ylabel('True label')\n",
    "plt.xlabel('Predicted label')"
   ]
  },
  {
   "cell_type": "markdown",
   "id": "5c67f41d",
   "metadata": {},
   "source": [
    "[From this link](https://stackoverflow.com/questions/53290306/confusion-matrix-and-test-accuracy-for-pytorch-transfer-learning-tutorial)\n",
    "\n",
    "[Or this one](https://github.com/France1/unet-multiclass-pytorch/blob/master/model/eval.py)\n",
    "\n",
    "[Check this](https://mmuratarat.github.io/2020-01-25/multilabel_classification_metrics_)"
   ]
  },
  {
   "cell_type": "markdown",
   "id": "tight-russell",
   "metadata": {},
   "source": [
    "To fix I think we need to get the max value of the predictions, to get the class predicted, then use that to access the confusion matrix array."
   ]
  }
 ],
 "metadata": {
  "kernelspec": {
   "display_name": "Python [conda env:cell]",
   "language": "python",
   "name": "conda-env-cell-py"
  },
  "language_info": {
   "codemirror_mode": {
    "name": "ipython",
    "version": 3
   },
   "file_extension": ".py",
   "mimetype": "text/x-python",
   "name": "python",
   "nbconvert_exporter": "python",
   "pygments_lexer": "ipython3",
   "version": "3.9.2"
  }
 },
 "nbformat": 4,
 "nbformat_minor": 5
}
