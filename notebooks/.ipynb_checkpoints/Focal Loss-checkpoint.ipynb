{
 "cells": [
  {
   "cell_type": "markdown",
   "id": "4b76f739",
   "metadata": {},
   "source": [
    "# Focal Loss\n",
    "[Original Paper](https://arxiv.org/abs/1708.02002)"
   ]
  },
  {
   "cell_type": "code",
   "execution_count": 3,
   "id": "fd25aab9",
   "metadata": {},
   "outputs": [],
   "source": [
    "import torch\n",
    "from torch import nn\n",
    "import torch.nn.functional as F"
   ]
  },
  {
   "cell_type": "code",
   "execution_count": 4,
   "id": "4a498326",
   "metadata": {},
   "outputs": [],
   "source": [
    "\"https://www.kaggle.com/bigironsphere/loss-function-library-keras-pytorch\"\n",
    "class FocalLoss(nn.Module):\n",
    "    def __init__(self, weight=None, size_average=True):\n",
    "        super(FocalLoss, self).__init__()\n",
    "\n",
    "    def forward(self, inputs, targets, alpha=2.0, gamma=0.25, smooth=1):\n",
    "        \n",
    "        #comment out if your model contains a sigmoid or equivalent activation layer\n",
    "        #inputs = F.sigmoid(inputs)       \n",
    "        \n",
    "        #flatten label and prediction tensors\n",
    "        inputs = inputs.view(-1)\n",
    "        targets = targets.view(-1)\n",
    "        \n",
    "        #first compute binary cross-entropy \n",
    "        BCE = F.binary_cross_entropy(inputs, targets, reduction='mean')\n",
    "        BCE_EXP = torch.exp(-BCE)\n",
    "        focal_loss = alpha * (1-BCE_EXP)**gamma * BCE\n",
    "                       \n",
    "        return focal_loss"
   ]
  },
  {
   "cell_type": "code",
   "execution_count": 30,
   "id": "f2ee17da",
   "metadata": {},
   "outputs": [],
   "source": [
    "loss_fn = FocalLoss()"
   ]
  },
  {
   "cell_type": "code",
   "execution_count": 31,
   "id": "f2f35671",
   "metadata": {},
   "outputs": [],
   "source": [
    "test_in = [[0.2, 0.4, 0.2, 0.3], [0.2, 0.8, 0.9, 0.1]]"
   ]
  },
  {
   "cell_type": "code",
   "execution_count": 32,
   "id": "943343d2",
   "metadata": {},
   "outputs": [],
   "source": [
    "test_target = [[1, 0, 0, 0], [0, 1, 0, 0]]"
   ]
  },
  {
   "cell_type": "code",
   "execution_count": 38,
   "id": "d65c713c",
   "metadata": {},
   "outputs": [],
   "source": [
    "loss = loss_fn(torch.tensor(test_in, requires_grad=True), torch.tensor(test_target).float())"
   ]
  },
  {
   "cell_type": "code",
   "execution_count": 39,
   "id": "c8b1806c",
   "metadata": {},
   "outputs": [],
   "source": [
    "loss.backward()"
   ]
  }
 ],
 "metadata": {
  "kernelspec": {
   "display_name": "Python [conda env:root] *",
   "language": "python",
   "name": "conda-root-py"
  },
  "language_info": {
   "codemirror_mode": {
    "name": "ipython",
    "version": 3
   },
   "file_extension": ".py",
   "mimetype": "text/x-python",
   "name": "python",
   "nbconvert_exporter": "python",
   "pygments_lexer": "ipython3",
   "version": "3.9.1"
  }
 },
 "nbformat": 4,
 "nbformat_minor": 5
}
