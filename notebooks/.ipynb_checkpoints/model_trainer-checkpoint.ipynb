{
 "cells": [
  {
   "cell_type": "code",
   "execution_count": 1,
   "id": "671c63bd",
   "metadata": {},
   "outputs": [],
   "source": [
    "# imports\n",
    "import torch\n",
    "from torch import nn\n",
    "from torchvision.models import resnet18\n",
    "from torch.utils.data import Dataset\n",
    "from torchvision import datasets\n",
    "from torch.utils.data import DataLoader\n",
    "import torch.nn.functional as F\n",
    "import platform\n",
    "from torch.autograd import Variable\n",
    "import time\n",
    "from efficientnet_pytorch import EfficientNet\n",
    "import glob\n",
    "import os\n",
    "\n",
    "# vis\n",
    "import matplotlib.pyplot as plt\n",
    "import numpy as np\n",
    "import pandas as pd\n",
    "from tqdm import tqdm\n",
    "import sklearn.metrics\n",
    "from math import ceil\n",
    "import cv2\n",
    "import pydicom\n",
    "from pydicom.pixel_data_handlers.util import apply_voi_lut\n",
    "import PIL"
   ]
  },
  {
   "cell_type": "code",
   "execution_count": 2,
   "id": "adff9c79",
   "metadata": {
    "scrolled": true
   },
   "outputs": [],
   "source": [
    "# import dataset\n",
    "train = pd.read_csv('../input/train.csv')"
   ]
  },
  {
   "cell_type": "markdown",
   "id": "ed791c10",
   "metadata": {},
   "source": [
    "## Generate Paths"
   ]
  },
  {
   "cell_type": "code",
   "execution_count": 3,
   "id": "2c40478f",
   "metadata": {},
   "outputs": [
    {
     "name": "stderr",
     "output_type": "stream",
     "text": [
      "100%|██████████████████████████████████████████████████████████| 6334/6334 [00:00<00:00, 9896.09it/s]\n"
     ]
    },
    {
     "data": {
      "text/html": [
       "<div>\n",
       "<style scoped>\n",
       "    .dataframe tbody tr th:only-of-type {\n",
       "        vertical-align: middle;\n",
       "    }\n",
       "\n",
       "    .dataframe tbody tr th {\n",
       "        vertical-align: top;\n",
       "    }\n",
       "\n",
       "    .dataframe thead th {\n",
       "        text-align: right;\n",
       "    }\n",
       "</style>\n",
       "<table border=\"1\" class=\"dataframe\">\n",
       "  <thead>\n",
       "    <tr style=\"text-align: right;\">\n",
       "      <th></th>\n",
       "      <th>id</th>\n",
       "      <th>boxes</th>\n",
       "      <th>label</th>\n",
       "      <th>StudyInstanceUID</th>\n",
       "      <th>Negative for Pneumonia</th>\n",
       "      <th>Typical Appearance</th>\n",
       "      <th>Indeterminate Appearance</th>\n",
       "      <th>Atypical Appearance</th>\n",
       "      <th>OpacityCount</th>\n",
       "      <th>path</th>\n",
       "    </tr>\n",
       "  </thead>\n",
       "  <tbody>\n",
       "    <tr>\n",
       "      <th>0</th>\n",
       "      <td>000a312787f2_image</td>\n",
       "      <td>[{'x': 789.28836, 'y': 582.43035, 'width': 102...</td>\n",
       "      <td>opacity 1 789.28836 582.43035 1815.94498 2499....</td>\n",
       "      <td>5776db0cec75</td>\n",
       "      <td>0</td>\n",
       "      <td>1</td>\n",
       "      <td>0</td>\n",
       "      <td>0</td>\n",
       "      <td>2</td>\n",
       "      <td>C:\\Users\\Admin\\Git\\SIIM\\train\\5776db0cec75\\814...</td>\n",
       "    </tr>\n",
       "    <tr>\n",
       "      <th>1</th>\n",
       "      <td>000c3a3f293f_image</td>\n",
       "      <td>NaN</td>\n",
       "      <td>none 1 0 0 1 1</td>\n",
       "      <td>ff0879eb20ed</td>\n",
       "      <td>1</td>\n",
       "      <td>0</td>\n",
       "      <td>0</td>\n",
       "      <td>0</td>\n",
       "      <td>0</td>\n",
       "      <td>C:\\Users\\Admin\\Git\\SIIM\\train\\ff0879eb20ed\\d8a...</td>\n",
       "    </tr>\n",
       "    <tr>\n",
       "      <th>2</th>\n",
       "      <td>0012ff7358bc_image</td>\n",
       "      <td>[{'x': 677.42216, 'y': 197.97662, 'width': 867...</td>\n",
       "      <td>opacity 1 677.42216 197.97662 1545.21983 1197....</td>\n",
       "      <td>9d514ce429a7</td>\n",
       "      <td>0</td>\n",
       "      <td>1</td>\n",
       "      <td>0</td>\n",
       "      <td>0</td>\n",
       "      <td>2</td>\n",
       "      <td>C:\\Users\\Admin\\Git\\SIIM\\train\\9d514ce429a7\\228...</td>\n",
       "    </tr>\n",
       "    <tr>\n",
       "      <th>3</th>\n",
       "      <td>001398f4ff4f_image</td>\n",
       "      <td>[{'x': 2729, 'y': 2181.33331, 'width': 948.000...</td>\n",
       "      <td>opacity 1 2729 2181.33331 3677.00012 2785.33331</td>\n",
       "      <td>28dddc8559b2</td>\n",
       "      <td>0</td>\n",
       "      <td>0</td>\n",
       "      <td>0</td>\n",
       "      <td>1</td>\n",
       "      <td>1</td>\n",
       "      <td>C:\\Users\\Admin\\Git\\SIIM\\train\\28dddc8559b2\\4d4...</td>\n",
       "    </tr>\n",
       "    <tr>\n",
       "      <th>4</th>\n",
       "      <td>001bd15d1891_image</td>\n",
       "      <td>[{'x': 623.23328, 'y': 1050, 'width': 714, 'he...</td>\n",
       "      <td>opacity 1 623.23328 1050 1337.23328 2156 opaci...</td>\n",
       "      <td>dfd9fdd85a3e</td>\n",
       "      <td>0</td>\n",
       "      <td>1</td>\n",
       "      <td>0</td>\n",
       "      <td>0</td>\n",
       "      <td>2</td>\n",
       "      <td>C:\\Users\\Admin\\Git\\SIIM\\train\\dfd9fdd85a3e\\491...</td>\n",
       "    </tr>\n",
       "  </tbody>\n",
       "</table>\n",
       "</div>"
      ],
      "text/plain": [
       "                   id                                              boxes  \\\n",
       "0  000a312787f2_image  [{'x': 789.28836, 'y': 582.43035, 'width': 102...   \n",
       "1  000c3a3f293f_image                                                NaN   \n",
       "2  0012ff7358bc_image  [{'x': 677.42216, 'y': 197.97662, 'width': 867...   \n",
       "3  001398f4ff4f_image  [{'x': 2729, 'y': 2181.33331, 'width': 948.000...   \n",
       "4  001bd15d1891_image  [{'x': 623.23328, 'y': 1050, 'width': 714, 'he...   \n",
       "\n",
       "                                               label StudyInstanceUID  \\\n",
       "0  opacity 1 789.28836 582.43035 1815.94498 2499....     5776db0cec75   \n",
       "1                                     none 1 0 0 1 1     ff0879eb20ed   \n",
       "2  opacity 1 677.42216 197.97662 1545.21983 1197....     9d514ce429a7   \n",
       "3    opacity 1 2729 2181.33331 3677.00012 2785.33331     28dddc8559b2   \n",
       "4  opacity 1 623.23328 1050 1337.23328 2156 opaci...     dfd9fdd85a3e   \n",
       "\n",
       "   Negative for Pneumonia  Typical Appearance  Indeterminate Appearance  \\\n",
       "0                       0                   1                         0   \n",
       "1                       1                   0                         0   \n",
       "2                       0                   1                         0   \n",
       "3                       0                   0                         0   \n",
       "4                       0                   1                         0   \n",
       "\n",
       "   Atypical Appearance  OpacityCount  \\\n",
       "0                    0             2   \n",
       "1                    0             0   \n",
       "2                    0             2   \n",
       "3                    1             1   \n",
       "4                    0             2   \n",
       "\n",
       "                                                path  \n",
       "0  C:\\Users\\Admin\\Git\\SIIM\\train\\5776db0cec75\\814...  \n",
       "1  C:\\Users\\Admin\\Git\\SIIM\\train\\ff0879eb20ed\\d8a...  \n",
       "2  C:\\Users\\Admin\\Git\\SIIM\\train\\9d514ce429a7\\228...  \n",
       "3  C:\\Users\\Admin\\Git\\SIIM\\train\\28dddc8559b2\\4d4...  \n",
       "4  C:\\Users\\Admin\\Git\\SIIM\\train\\dfd9fdd85a3e\\491...  "
      ]
     },
     "execution_count": 3,
     "metadata": {},
     "output_type": "execute_result"
    }
   ],
   "source": [
    "# train directory\n",
    "TRAIN_DIR = \"C:\\\\Users\\\\Admin\\\\Git\\\\SIIM\\\\train\\\\\"\n",
    "# paths\n",
    "paths = list()\n",
    "# create path column\n",
    "for _id in tqdm(train['StudyInstanceUID']):\n",
    "    try:\n",
    "        paths.append(glob.glob(os.path.join(TRAIN_DIR, _id +\"/*/*\"))[0])\n",
    "    except:\n",
    "        paths.append('')\n",
    "train['path'] = paths\n",
    "train.head()"
   ]
  },
  {
   "cell_type": "code",
   "execution_count": 4,
   "id": "prescription-carroll",
   "metadata": {},
   "outputs": [],
   "source": [
    "# remove where paths not found\n",
    "train = train[train.path != ''].copy()"
   ]
  },
  {
   "cell_type": "code",
   "execution_count": 5,
   "id": "former-alexandria",
   "metadata": {
    "scrolled": true
   },
   "outputs": [
    {
     "data": {
      "text/html": [
       "<div>\n",
       "<style scoped>\n",
       "    .dataframe tbody tr th:only-of-type {\n",
       "        vertical-align: middle;\n",
       "    }\n",
       "\n",
       "    .dataframe tbody tr th {\n",
       "        vertical-align: top;\n",
       "    }\n",
       "\n",
       "    .dataframe thead th {\n",
       "        text-align: right;\n",
       "    }\n",
       "</style>\n",
       "<table border=\"1\" class=\"dataframe\">\n",
       "  <thead>\n",
       "    <tr style=\"text-align: right;\">\n",
       "      <th></th>\n",
       "      <th>id</th>\n",
       "      <th>boxes</th>\n",
       "      <th>label</th>\n",
       "      <th>StudyInstanceUID</th>\n",
       "      <th>Negative for Pneumonia</th>\n",
       "      <th>Typical Appearance</th>\n",
       "      <th>Indeterminate Appearance</th>\n",
       "      <th>Atypical Appearance</th>\n",
       "      <th>OpacityCount</th>\n",
       "      <th>path</th>\n",
       "    </tr>\n",
       "  </thead>\n",
       "  <tbody>\n",
       "  </tbody>\n",
       "</table>\n",
       "</div>"
      ],
      "text/plain": [
       "Empty DataFrame\n",
       "Columns: [id, boxes, label, StudyInstanceUID, Negative for Pneumonia, Typical Appearance, Indeterminate Appearance, Atypical Appearance, OpacityCount, path]\n",
       "Index: []"
      ]
     },
     "execution_count": 5,
     "metadata": {},
     "output_type": "execute_result"
    }
   ],
   "source": [
    "# check\n",
    "train[train.path == '']"
   ]
  },
  {
   "cell_type": "markdown",
   "id": "55a7a2f0",
   "metadata": {},
   "source": [
    "## Config"
   ]
  },
  {
   "cell_type": "code",
   "execution_count": 6,
   "id": "2a41bae1",
   "metadata": {},
   "outputs": [],
   "source": [
    "class Config:\n",
    "    train_pcent = 0.8\n",
    "    TRAIN_BS = 4\n",
    "    VALID_BS = 4\n",
    "    NB_EPOCHS = 4\n",
    "    model_name = 'EfficientNETB2'\n",
    "    reshape_size = (400, 400)\n",
    "    num_classes = 4"
   ]
  },
  {
   "cell_type": "markdown",
   "id": "95f9e544",
   "metadata": {},
   "source": [
    "# Dataset"
   ]
  },
  {
   "cell_type": "code",
   "execution_count": 7,
   "id": "70a7d9e9",
   "metadata": {},
   "outputs": [],
   "source": [
    "class SIIM(Dataset):\n",
    "    def __init__(self, df, is_train=True, augments=None, \n",
    "                 reshape_size=Config.reshape_size):\n",
    "        super().__init__()\n",
    "        # random sample data\n",
    "        self.df = df.sample(frac=1).reset_index(drop=True)\n",
    "        # training or validation\n",
    "        self.is_train = is_train\n",
    "        # augmentations\n",
    "        self.augments = augments\n",
    "        self.reshape_size = reshape_size\n",
    "    \n",
    "    @staticmethod\n",
    "    def dicom2array(path, voi_lut=True, fix_monochrome=True):\n",
    "        dicom = pydicom.read_file(path)\n",
    "        # VOI LUT (if available by DICOM device) is used to\n",
    "        # transform raw DICOM data to \"human-friendly\" view\n",
    "        if voi_lut:\n",
    "            data = apply_voi_lut(dicom.pixel_array, dicom)\n",
    "        else:\n",
    "            data = dicom.pixel_array\n",
    "        # depending on this value, X-ray may look inverted - fix that:\n",
    "        if fix_monochrome and dicom.PhotometricInterpretation == \"MONOCHROME1\":\n",
    "            data = np.amax(data) - data\n",
    "        data = data - np.min(data)\n",
    "        data = data / np.max(data)\n",
    "        data = (data * 255).astype(np.uint8)\n",
    "        return data\n",
    "    \n",
    "    def __getitem__(self, idx):\n",
    "        # retrieve image\n",
    "        image_id = self.df['StudyInstanceUID'].values[idx]\n",
    "        image_path = self.df['path'].values[idx]\n",
    "        # get image\n",
    "        image = self.dicom2array(image_path)\n",
    "        # recolour\n",
    "        image = cv2.cvtColor(image, cv2.COLOR_GRAY2RGB)\n",
    "        # resize\n",
    "        image = cv2.resize(image, self.reshape_size)\n",
    "        # Augments\n",
    "        if self.augments:\n",
    "            image = self.augments(image=image)\n",
    "        else:\n",
    "            image = np.transpose(image, (2, 0, 1)).astype(np.float32)\n",
    "            image = torch.tensor(image)  \n",
    "            \n",
    "        # if train\n",
    "        if self.is_train:\n",
    "            label = self.df[self.df['StudyInstanceUID'] == image_id].values.tolist()[0][4:-2]\n",
    "            return image, torch.tensor(label)\n",
    "\n",
    "        return image\n",
    "    \n",
    "    def __len__(self):\n",
    "        return(len(self.df))"
   ]
  },
  {
   "cell_type": "markdown",
   "id": "dd1c1f70",
   "metadata": {},
   "source": [
    "# Model\n",
    "\n",
    "Fake model function that should output a value of 1 for either:\n",
    "\n",
    "<code>'negative', 'typical', 'indeterminate', 'atypical'</code>"
   ]
  },
  {
   "cell_type": "code",
   "execution_count": 8,
   "id": "4bb55fe8",
   "metadata": {},
   "outputs": [],
   "source": [
    "class NN(nn.Module):\n",
    "    def __init__(self, num_classes=4):\n",
    "        super(NN, self).__init__()\n",
    "        # model spec\n",
    "        self.out = nn.Sigmoid()\n",
    "        self.num_classes = num_classes\n",
    "        \n",
    "        self.convolutions = nn.Sequential(nn.Conv2d(4, 64, kernel_size=(7, 7), stride=(2, 2), padding=(3, 3), bias=False),\n",
    "                                          *(list(resnet18().children())[1:-1]))\n",
    "        self.dense = nn.Linear(512, num_classes)\n",
    "        \n",
    "    def forward(self, X):\n",
    "        # batch size\n",
    "        batch_size = X.shape[0]\n",
    "        # create fake data\n",
    "        rand = torch.randn([batch_size, 4])\n",
    "        return Variable(self.out(rand), requires_grad=True)\n",
    "    \n",
    "    \n",
    "class EfficientNETB2(nn.Module):\n",
    "    def __init__(self, NUM_CLASSES=Config.num_classes, pretrained=True):\n",
    "        super(EfficientNETB2, self).__init__()\n",
    "        # model\n",
    "        self.NUM_CLASSES = NUM_CLASSES\n",
    "        self.effnet = self.load_effnet(pretrained)\n",
    "        self.effnet._fc = nn.Linear(1408, self.NUM_CLASSES)\n",
    "        self.out = nn.Sigmoid()\n",
    "        \n",
    "    def load_effnet(self, pretrained):\n",
    "        if pretrained == True:\n",
    "            effnet = EfficientNet.from_pretrained(\"efficientnet-b2\")\n",
    "        else:\n",
    "            effnet = EfficientNet.from_name(\"efficientnet-b2\")\n",
    "        return effnet\n",
    "        \n",
    "    def forward(self, X):\n",
    "        X = self.effnet(X)\n",
    "        output = self.out(X)\n",
    "        return(output)"
   ]
  },
  {
   "cell_type": "markdown",
   "id": "f038ff59",
   "metadata": {},
   "source": [
    "# Trainer"
   ]
  },
  {
   "cell_type": "code",
   "execution_count": 9,
   "id": "abf2b319",
   "metadata": {},
   "outputs": [],
   "source": [
    "class Trainer:\n",
    "    def __init__(self, train_dataloader, valid_dataloader, model,\n",
    "                optimiser, loss_fn, val_loss_fn, device='cpu'):\n",
    "        \"\"\"\n",
    "        Constructor for Trainer class\n",
    "        \"\"\"\n",
    "        self.train = train_dataloader\n",
    "        self.valid = valid_dataloader\n",
    "        self.model = model\n",
    "        self.optim = optimiser\n",
    "        self.loss_fn = loss_fn\n",
    "        self.val_loss_fn = val_loss_fn\n",
    "        self.device = device\n",
    "        \n",
    "    def train_one_cycle(self):\n",
    "        \"\"\"\n",
    "        Run one epoch of training, backpropogation and optimisation.\n",
    "        \"\"\"\n",
    "            \n",
    "        # model train mode\n",
    "        model.train()\n",
    "        \n",
    "        # progress bar\n",
    "        train_prog_bar = tqdm(self.train, total=len(self.train))\n",
    "        \n",
    "        # stats\n",
    "        all_train_labels = []\n",
    "        all_train_preds = []\n",
    "        running_loss = 0\n",
    "        \n",
    "        with torch.set_grad_enabled(True):\n",
    "            for xtrain, ytrain in train_prog_bar:\n",
    "                # send to devices\n",
    "                xtrain = xtrain.to(self.device).float()\n",
    "                ytrain = ytrain.to(self.device).float()\n",
    "                \n",
    "                # get predictions\n",
    "                pred = model(xtrain)\n",
    "                # training\n",
    "                train_loss = self.loss_fn(pred, ytrain)\n",
    "\n",
    "                # Backpropogation\n",
    "                \n",
    "                self.optim.zero_grad()\n",
    "                train_loss.backward()\n",
    "                self.optim.step()\n",
    "                \n",
    "                # For averaging and reporting later\n",
    "                running_loss += train_loss.item()\n",
    "                \n",
    "                # convert predictions to numpy\n",
    "                train_predictions = torch.argmax(pred, 1).detach().cpu().numpy()\n",
    "                train_labels = ytrain.detach().cpu().numpy()\n",
    "                \n",
    "                # append to stats\n",
    "                all_train_preds += [train_predictions]\n",
    "                all_train_labels += [train_labels]\n",
    "\n",
    "                # show the current loss to the progress bar\n",
    "                train_pbar_desc = f'loss: {train_loss.item():.4f}'\n",
    "                train_prog_bar.set_description(desc=train_pbar_desc)\n",
    "                \n",
    "            # average the running loss over all batches and return\n",
    "            train_running_loss = running_loss / len(self.train)\n",
    "            print(f\"Final Training Loss: {train_running_loss:.4f}\")\n",
    "\n",
    "            # free memory\n",
    "            del all_train_labels, all_train_preds, train_predictions, train_labels, xtrain, ytrain, pred\n",
    "            # free up cache\n",
    "            torch.cuda.empty_cache()\n",
    "                \n",
    "            return(train_running_loss)\n",
    "        \n",
    "\n",
    "    def valid_one_cycle(self):\n",
    "        \"\"\"\n",
    "        Runs one epoch of prediction\n",
    "        \"\"\"        \n",
    "        model.eval()\n",
    "        \n",
    "        valid_prog_bar = tqdm(self.valid, total=len(self.valid))\n",
    "        \n",
    "        with torch.no_grad():\n",
    "            all_valid_labels = []\n",
    "            all_valid_preds = []\n",
    "            \n",
    "            running_loss = 0\n",
    "            \n",
    "            for xval, yval in valid_prog_bar:\n",
    "                xval = xval.to(self.device).float()\n",
    "                yval = yval.to(self.device).float()\n",
    "                \n",
    "                val_z = model(xval)\n",
    "                \n",
    "                val_loss = self.val_loss_fn(val_z, yval)\n",
    "                \n",
    "                running_loss += val_loss.item()\n",
    "                \n",
    "                val_pred = torch.argmax(val_z, 1).detach().cpu().numpy()\n",
    "                val_label = yval.detach().cpu().numpy()\n",
    "                \n",
    "                all_valid_labels += [val_label]\n",
    "                all_valid_preds += [val_pred]\n",
    "            \n",
    "                # Show the current loss\n",
    "                valid_pbar_desc = f\"loss: {val_loss.item():.4f}\"\n",
    "                valid_prog_bar.set_description(desc=valid_pbar_desc)\n",
    "            \n",
    "            # Get the final loss\n",
    "            final_loss_val = running_loss / len(self.valid)\n",
    "            \n",
    "            # Get Validation Accuracy\n",
    "            all_valid_labels = np.concatenate(all_valid_labels)\n",
    "            all_valid_preds = np.concatenate(all_valid_preds)\n",
    "            \n",
    "            print(f\"Final Validation Loss: {final_loss_val:.4f}\")\n",
    "            \n",
    "            # Free up memory\n",
    "            del all_valid_labels, all_valid_preds, val_label, val_pred, xval, yval, val_z\n",
    "            torch.cuda.empty_cache()\n",
    "            \n",
    "        return (final_loss_val, model)    \n",
    "            "
   ]
  },
  {
   "cell_type": "markdown",
   "id": "8a7f9d19",
   "metadata": {},
   "source": [
    "# Cycle"
   ]
  },
  {
   "cell_type": "code",
   "execution_count": 10,
   "id": "ac98bb7b",
   "metadata": {
    "scrolled": false
   },
   "outputs": [
    {
     "name": "stdout",
     "output_type": "stream",
     "text": [
      "[INFO] Training on 4873 samples (80%) and validation on 1219 (20%) samples\n",
      "[INFO] Using GPU: GeForce GTX 970\n",
      "\n",
      "Loaded pretrained weights for efficientnet-b2\n"
     ]
    },
    {
     "name": "stderr",
     "output_type": "stream",
     "text": [
      "\r",
      "  0%|                                                                       | 0/1219 [00:00<?, ?it/s]"
     ]
    },
    {
     "name": "stdout",
     "output_type": "stream",
     "text": [
      "Training Model: EfficientNETB2\n",
      "-------------------- EPOCH: 1/4 --------------------\n"
     ]
    },
    {
     "name": "stderr",
     "output_type": "stream",
     "text": [
      "loss: 0.2872:  16%|███████▎                                       | 189/1219 [04:05<36:42,  2.14s/it]C:\\Users\\Admin\\miniconda3\\envs\\cell\\lib\\site-packages\\pydicom\\pixel_data_handlers\\numpy_handler.py:341: UserWarning: The length of the pixel data in the dataset (13262360 bytes) indicates it contains excess padding. 216296 bytes will be removed from the end of the data\n",
      "  warnings.warn(msg)\n",
      "loss: 0.2673: 100%|██████████████████████████████████████████████| 1219/1219 [26:35<00:00,  1.31s/it]\n",
      "  0%|                                                                        | 0/305 [00:00<?, ?it/s]"
     ]
    },
    {
     "name": "stdout",
     "output_type": "stream",
     "text": [
      "Final Training Loss: 0.4460\n"
     ]
    },
    {
     "name": "stderr",
     "output_type": "stream",
     "text": [
      "loss: 0.1028: 100%|████████████████████████████████████████████████| 305/305 [05:02<00:00,  1.01it/s]\n",
      "  0%|                                                                       | 0/1219 [00:00<?, ?it/s]"
     ]
    },
    {
     "name": "stdout",
     "output_type": "stream",
     "text": [
      "Final Validation Loss: 0.4256\n",
      "-------------------- EPOCH: 2/4 --------------------\n"
     ]
    },
    {
     "name": "stderr",
     "output_type": "stream",
     "text": [
      "loss: 0.2351: 100%|██████████████████████████████████████████████| 1219/1219 [26:40<00:00,  1.31s/it]\n",
      "  0%|                                                                        | 0/305 [00:00<?, ?it/s]"
     ]
    },
    {
     "name": "stdout",
     "output_type": "stream",
     "text": [
      "Final Training Loss: 0.4090\n"
     ]
    },
    {
     "name": "stderr",
     "output_type": "stream",
     "text": [
      "loss: 0.0335: 100%|████████████████████████████████████████████████| 305/305 [04:58<00:00,  1.02it/s]\n",
      "  0%|                                                                       | 0/1219 [00:00<?, ?it/s]"
     ]
    },
    {
     "name": "stdout",
     "output_type": "stream",
     "text": [
      "Final Validation Loss: 0.4280\n",
      "-------------------- EPOCH: 3/4 --------------------\n"
     ]
    },
    {
     "name": "stderr",
     "output_type": "stream",
     "text": [
      "loss: 0.1788: 100%|██████████████████████████████████████████████| 1219/1219 [26:41<00:00,  1.31s/it]\n",
      "  0%|                                                                        | 0/305 [00:00<?, ?it/s]"
     ]
    },
    {
     "name": "stdout",
     "output_type": "stream",
     "text": [
      "Final Training Loss: 0.3936\n"
     ]
    },
    {
     "name": "stderr",
     "output_type": "stream",
     "text": [
      "loss: 0.0554: 100%|████████████████████████████████████████████████| 305/305 [04:57<00:00,  1.03it/s]\n",
      "  0%|                                                                       | 0/1219 [00:00<?, ?it/s]"
     ]
    },
    {
     "name": "stdout",
     "output_type": "stream",
     "text": [
      "Final Validation Loss: 0.4366\n",
      "-------------------- EPOCH: 4/4 --------------------\n"
     ]
    },
    {
     "name": "stderr",
     "output_type": "stream",
     "text": [
      "loss: 0.1912: 100%|██████████████████████████████████████████████| 1219/1219 [26:41<00:00,  1.31s/it]\n",
      "  0%|                                                                        | 0/305 [00:00<?, ?it/s]"
     ]
    },
    {
     "name": "stdout",
     "output_type": "stream",
     "text": [
      "Final Training Loss: 0.3758\n"
     ]
    },
    {
     "name": "stderr",
     "output_type": "stream",
     "text": [
      "loss: 0.1264: 100%|████████████████████████████████████████████████| 305/305 [04:57<00:00,  1.03it/s]"
     ]
    },
    {
     "name": "stdout",
     "output_type": "stream",
     "text": [
      "Final Validation Loss: 0.4107\n"
     ]
    },
    {
     "name": "stderr",
     "output_type": "stream",
     "text": [
      "\n"
     ]
    }
   ],
   "source": [
    "# Training Cycle\n",
    "nb_training_samples = int(Config.train_pcent * train.id.shape[0])\n",
    "train_data = train[:nb_training_samples]\n",
    "valid_data = train[nb_training_samples:]\n",
    "\n",
    "print(f\"[INFO] Training on {train_data.shape[0]} samples ({int(Config.train_pcent*100)}%) and validation on {valid_data.shape[0]} ({ceil(abs(1 - Config.train_pcent) * 100)}%) samples\")\n",
    "\n",
    "if torch.cuda.is_available():\n",
    "        print(\"[INFO] Using GPU: {}\\n\".format(torch.cuda.get_device_name()))\n",
    "        DEVICE = torch.device('cuda:0')\n",
    "else:\n",
    "    print(\"\\n[INFO] GPU not found. Using CPU: {}\\n\".format(platform.processor()))\n",
    "    DEVICE = torch.device('cpu')\n",
    "        \n",
    "\n",
    "# Make Training and Validation Datasets\n",
    "training_set = SIIM(\n",
    "    df=train_data\n",
    ")\n",
    "\n",
    "validation_set = SIIM(\n",
    "    df=valid_data\n",
    ")\n",
    "\n",
    "train_loader = DataLoader(\n",
    "    training_set,\n",
    "    batch_size=Config.TRAIN_BS,\n",
    "    shuffle=True)\n",
    "\n",
    "valid_loader = DataLoader(\n",
    "    validation_set,\n",
    "    batch_size=Config.VALID_BS,\n",
    "    shuffle=False)\n",
    "\n",
    "if \"EfficientNETB2\" in Config.model_name in Config.model_name:        \n",
    "    model = EfficientNETB2().to(DEVICE)\n",
    "    \n",
    "else:\n",
    "    raise RuntimeError(\"Must specify a valid model type to train.\")\n",
    "\n",
    "print(f\"Training Model: {Config.model_name}\")\n",
    "\n",
    "optim = torch.optim.Adam(model.parameters(), lr=1e-4, weight_decay=0.001)\n",
    "loss_fn_train = nn.BCELoss()\n",
    "loss_fn_val = nn.BCELoss()\n",
    "\n",
    "trainer = Trainer(\n",
    "    train_dataloader=train_loader,\n",
    "    valid_dataloader=valid_loader,\n",
    "    model=model,\n",
    "    optimiser=optim,\n",
    "    loss_fn=loss_fn_train,\n",
    "    val_loss_fn=loss_fn_val,\n",
    "    device=DEVICE,\n",
    ")\n",
    "\n",
    "train_losses_eff = []\n",
    "valid_losses_eff = []\n",
    "\n",
    "for epoch in range(Config.NB_EPOCHS):\n",
    "    # Empty CUDA cache\n",
    "    torch.cuda.empty_cache()\n",
    "    print(f\"{'-'*20} EPOCH: {epoch+1}/{Config.NB_EPOCHS} {'-'*20}\")\n",
    "\n",
    "    # Run one training epoch\n",
    "    current_train_loss = trainer.train_one_cycle()\n",
    "    train_losses_eff.append(current_train_loss)\n",
    "\n",
    "    # Run one validation epoch\n",
    "    current_val_loss, op_model = trainer.valid_one_cycle()\n",
    "    valid_losses_eff.append(current_val_loss)"
   ]
  },
  {
   "cell_type": "markdown",
   "id": "returning-mitchell",
   "metadata": {},
   "source": [
    "# Plot Loss"
   ]
  },
  {
   "cell_type": "code",
   "execution_count": 12,
   "id": "noted-walnut",
   "metadata": {
    "scrolled": true
   },
   "outputs": [
    {
     "data": {
      "image/png": "[encoded data removed]",
      "text/plain": [
       "<Figure size 432x288 with 1 Axes>"
      ]
     },
     "metadata": {
      "needs_background": "light"
     },
     "output_type": "display_data"
    }
   ],
   "source": [
    "# plot loss\n",
    "plt.plot(np.arange(0, len(train_losses_eff), 1), train_losses_eff, label='Train')\n",
    "plt.plot(np.arange(0, len(valid_losses_eff), 1), valid_losses_eff, label='Valid')\n",
    "plt.ylabel('Loss')\n",
    "plt.xlabel('# of epochs')\n",
    "plt.title('Loss over epochs')\n",
    "plt.show()"
   ]
  },
  {
   "cell_type": "code",
   "execution_count": 13,
   "id": "offshore-theta",
   "metadata": {},
   "outputs": [],
   "source": [
    "# Save Model\n",
    "torch.save(op_model, 'C:\\\\Users\\\\Admin\\\\Git\\\\SIIM\\\\models\\\\EfficientNETB2-4\\\\model.pth')"
   ]
  }
 ],
 "metadata": {
  "kernelspec": {
   "display_name": "Python [conda env:cell]",
   "language": "python",
   "name": "conda-env-cell-py"
  },
  "language_info": {
   "codemirror_mode": {
    "name": "ipython",
    "version": 3
   },
   "file_extension": ".py",
   "mimetype": "text/x-python",
   "name": "python",
   "nbconvert_exporter": "python",
   "pygments_lexer": "ipython3",
   "version": "3.9.2"
  }
 },
 "nbformat": 4,
 "nbformat_minor": 5
}
